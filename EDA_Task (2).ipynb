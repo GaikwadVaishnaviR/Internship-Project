{
  "nbformat": 4,
  "nbformat_minor": 0,
  "metadata": {
    "colab": {
      "name": "EDA_Task.ipynb",
      "provenance": [],
      "collapsed_sections": []
    },
    "kernelspec": {
      "name": "python3",
      "display_name": "Python 3"
    },
    "language_info": {
      "name": "python"
    }
  },
  "cells": [
    {
      "cell_type": "markdown",
      "source": [
        "# **Analysis on Mortgage Based Securities Prepayment Ability**\n",
        "Task -EDA on  Dataset\n",
        "\n"
      ],
      "metadata": {
        "id": "yuzHLero25Z6"
      }
    },
    {
      "cell_type": "markdown",
      "source": [
        "#### **Import libraries and load dataset**\n",
        "\n",
        "\n",
        "\n",
        "\n"
      ],
      "metadata": {
        "id": "ufYo0XcN3DS6"
      }
    },
    {
      "cell_type": "code",
      "source": [
        "import pandas as pd\n",
        "import numpy as np\n",
        "import seaborn as sns\n",
        "import matplotlib.pyplot as plt\n",
        "%matplotlib inline"
      ],
      "metadata": {
        "id": "ioBQOhjJ4u7w"
      },
      "execution_count": 189,
      "outputs": []
    },
    {
      "cell_type": "code",
      "source": [
        "df=pd.read_csv('LoanExport.csv')"
      ],
      "metadata": {
        "id": "p-uvb8c15LDN",
        "colab": {
          "base_uri": "https://localhost:8080/"
        },
        "outputId": "1da89797-7a36-491b-8098-c5e2e54382a2"
      },
      "execution_count": 190,
      "outputs": [
        {
          "output_type": "stream",
          "name": "stderr",
          "text": [
            "/usr/local/lib/python3.7/dist-packages/IPython/core/interactiveshell.py:2882: DtypeWarning: Columns (18) have mixed types.Specify dtype option on import or set low_memory=False.\n",
            "  exec(code_obj, self.user_global_ns, self.user_ns)\n"
          ]
        }
      ]
    },
    {
      "cell_type": "code",
      "source": [
        "df.head()"
      ],
      "metadata": {
        "colab": {
          "base_uri": "https://localhost:8080/",
          "height": 270
        },
        "id": "KjiFkPod5RLM",
        "outputId": "a89bc8cc-2fcd-4b0d-dfd0-52c8d0842bd5"
      },
      "execution_count": 191,
      "outputs": [
        {
          "output_type": "execute_result",
          "data": {
            "text/html": [
              "\n",
              "  <div id=\"df-d7404add-5551-4b82-9920-76d62c185e18\">\n",
              "    <div class=\"colab-df-container\">\n",
              "      <div>\n",
              "<style scoped>\n",
              "    .dataframe tbody tr th:only-of-type {\n",
              "        vertical-align: middle;\n",
              "    }\n",
              "\n",
              "    .dataframe tbody tr th {\n",
              "        vertical-align: top;\n",
              "    }\n",
              "\n",
              "    .dataframe thead th {\n",
              "        text-align: right;\n",
              "    }\n",
              "</style>\n",
              "<table border=\"1\" class=\"dataframe\">\n",
              "  <thead>\n",
              "    <tr style=\"text-align: right;\">\n",
              "      <th></th>\n",
              "      <th>CreditScore</th>\n",
              "      <th>FirstPaymentDate</th>\n",
              "      <th>FirstTimeHomebuyer</th>\n",
              "      <th>MaturityDate</th>\n",
              "      <th>MSA</th>\n",
              "      <th>MIP</th>\n",
              "      <th>Units</th>\n",
              "      <th>Occupancy</th>\n",
              "      <th>OCLTV</th>\n",
              "      <th>DTI</th>\n",
              "      <th>OrigUPB</th>\n",
              "      <th>LTV</th>\n",
              "      <th>OrigInterestRate</th>\n",
              "      <th>Channel</th>\n",
              "      <th>PPM</th>\n",
              "      <th>ProductType</th>\n",
              "      <th>PropertyState</th>\n",
              "      <th>PropertyType</th>\n",
              "      <th>PostalCode</th>\n",
              "      <th>LoanSeqNum</th>\n",
              "      <th>LoanPurpose</th>\n",
              "      <th>OrigLoanTerm</th>\n",
              "      <th>NumBorrowers</th>\n",
              "      <th>SellerName</th>\n",
              "      <th>ServicerName</th>\n",
              "      <th>EverDelinquent</th>\n",
              "      <th>MonthsDelinquent</th>\n",
              "      <th>MonthsInRepayment</th>\n",
              "    </tr>\n",
              "  </thead>\n",
              "  <tbody>\n",
              "    <tr>\n",
              "      <th>0</th>\n",
              "      <td>0</td>\n",
              "      <td>199902</td>\n",
              "      <td>N</td>\n",
              "      <td>202901</td>\n",
              "      <td>16974</td>\n",
              "      <td>25</td>\n",
              "      <td>1</td>\n",
              "      <td>O</td>\n",
              "      <td>89</td>\n",
              "      <td>27</td>\n",
              "      <td>117000</td>\n",
              "      <td>89</td>\n",
              "      <td>6.750</td>\n",
              "      <td>T</td>\n",
              "      <td>N</td>\n",
              "      <td>FRM</td>\n",
              "      <td>IL</td>\n",
              "      <td>SF</td>\n",
              "      <td>60400</td>\n",
              "      <td>F199Q1268030</td>\n",
              "      <td>P</td>\n",
              "      <td>360</td>\n",
              "      <td>2</td>\n",
              "      <td>FL</td>\n",
              "      <td>WASHINGTONMUTUALBANK</td>\n",
              "      <td>0</td>\n",
              "      <td>0</td>\n",
              "      <td>52</td>\n",
              "    </tr>\n",
              "    <tr>\n",
              "      <th>1</th>\n",
              "      <td>0</td>\n",
              "      <td>199902</td>\n",
              "      <td>N</td>\n",
              "      <td>202901</td>\n",
              "      <td>19740</td>\n",
              "      <td>0</td>\n",
              "      <td>1</td>\n",
              "      <td>O</td>\n",
              "      <td>73</td>\n",
              "      <td>17</td>\n",
              "      <td>109000</td>\n",
              "      <td>73</td>\n",
              "      <td>6.500</td>\n",
              "      <td>R</td>\n",
              "      <td>N</td>\n",
              "      <td>FRM</td>\n",
              "      <td>CO</td>\n",
              "      <td>SF</td>\n",
              "      <td>80200</td>\n",
              "      <td>F199Q1015092</td>\n",
              "      <td>N</td>\n",
              "      <td>360</td>\n",
              "      <td>1</td>\n",
              "      <td>FT</td>\n",
              "      <td>CHASEHOMEFINANCELLC</td>\n",
              "      <td>0</td>\n",
              "      <td>0</td>\n",
              "      <td>144</td>\n",
              "    </tr>\n",
              "    <tr>\n",
              "      <th>2</th>\n",
              "      <td>0</td>\n",
              "      <td>199902</td>\n",
              "      <td>N</td>\n",
              "      <td>202901</td>\n",
              "      <td>29940</td>\n",
              "      <td>0</td>\n",
              "      <td>1</td>\n",
              "      <td>O</td>\n",
              "      <td>75</td>\n",
              "      <td>16</td>\n",
              "      <td>88000</td>\n",
              "      <td>75</td>\n",
              "      <td>6.875</td>\n",
              "      <td>T</td>\n",
              "      <td>N</td>\n",
              "      <td>FRM</td>\n",
              "      <td>KS</td>\n",
              "      <td>SF</td>\n",
              "      <td>66000</td>\n",
              "      <td>F199Q1266886</td>\n",
              "      <td>N</td>\n",
              "      <td>360</td>\n",
              "      <td>2</td>\n",
              "      <td>FL</td>\n",
              "      <td>WASHINGTONMUTUALBANK</td>\n",
              "      <td>0</td>\n",
              "      <td>0</td>\n",
              "      <td>67</td>\n",
              "    </tr>\n",
              "    <tr>\n",
              "      <th>3</th>\n",
              "      <td>0</td>\n",
              "      <td>199902</td>\n",
              "      <td>N</td>\n",
              "      <td>202901</td>\n",
              "      <td>31084</td>\n",
              "      <td>0</td>\n",
              "      <td>1</td>\n",
              "      <td>O</td>\n",
              "      <td>76</td>\n",
              "      <td>14</td>\n",
              "      <td>160000</td>\n",
              "      <td>76</td>\n",
              "      <td>6.875</td>\n",
              "      <td>R</td>\n",
              "      <td>N</td>\n",
              "      <td>FRM</td>\n",
              "      <td>CA</td>\n",
              "      <td>SF</td>\n",
              "      <td>90700</td>\n",
              "      <td>F199Q1178167</td>\n",
              "      <td>N</td>\n",
              "      <td>360</td>\n",
              "      <td>2</td>\n",
              "      <td>GM</td>\n",
              "      <td>GMACMTGECORP</td>\n",
              "      <td>0</td>\n",
              "      <td>0</td>\n",
              "      <td>35</td>\n",
              "    </tr>\n",
              "    <tr>\n",
              "      <th>4</th>\n",
              "      <td>0</td>\n",
              "      <td>199902</td>\n",
              "      <td>N</td>\n",
              "      <td>202901</td>\n",
              "      <td>35644</td>\n",
              "      <td>0</td>\n",
              "      <td>1</td>\n",
              "      <td>O</td>\n",
              "      <td>78</td>\n",
              "      <td>18</td>\n",
              "      <td>109000</td>\n",
              "      <td>78</td>\n",
              "      <td>7.125</td>\n",
              "      <td>R</td>\n",
              "      <td>N</td>\n",
              "      <td>FRM</td>\n",
              "      <td>NJ</td>\n",
              "      <td>SF</td>\n",
              "      <td>7600</td>\n",
              "      <td>F199Q1178517</td>\n",
              "      <td>N</td>\n",
              "      <td>360</td>\n",
              "      <td>2</td>\n",
              "      <td>GM</td>\n",
              "      <td>GMACMTGECORP</td>\n",
              "      <td>0</td>\n",
              "      <td>0</td>\n",
              "      <td>54</td>\n",
              "    </tr>\n",
              "  </tbody>\n",
              "</table>\n",
              "</div>\n",
              "      <button class=\"colab-df-convert\" onclick=\"convertToInteractive('df-d7404add-5551-4b82-9920-76d62c185e18')\"\n",
              "              title=\"Convert this dataframe to an interactive table.\"\n",
              "              style=\"display:none;\">\n",
              "        \n",
              "  <svg xmlns=\"http://www.w3.org/2000/svg\" height=\"24px\"viewBox=\"0 0 24 24\"\n",
              "       width=\"24px\">\n",
              "    <path d=\"M0 0h24v24H0V0z\" fill=\"none\"/>\n",
              "    <path d=\"M18.56 5.44l.94 2.06.94-2.06 2.06-.94-2.06-.94-.94-2.06-.94 2.06-2.06.94zm-11 1L8.5 8.5l.94-2.06 2.06-.94-2.06-.94L8.5 2.5l-.94 2.06-2.06.94zm10 10l.94 2.06.94-2.06 2.06-.94-2.06-.94-.94-2.06-.94 2.06-2.06.94z\"/><path d=\"M17.41 7.96l-1.37-1.37c-.4-.4-.92-.59-1.43-.59-.52 0-1.04.2-1.43.59L10.3 9.45l-7.72 7.72c-.78.78-.78 2.05 0 2.83L4 21.41c.39.39.9.59 1.41.59.51 0 1.02-.2 1.41-.59l7.78-7.78 2.81-2.81c.8-.78.8-2.07 0-2.86zM5.41 20L4 18.59l7.72-7.72 1.47 1.35L5.41 20z\"/>\n",
              "  </svg>\n",
              "      </button>\n",
              "      \n",
              "  <style>\n",
              "    .colab-df-container {\n",
              "      display:flex;\n",
              "      flex-wrap:wrap;\n",
              "      gap: 12px;\n",
              "    }\n",
              "\n",
              "    .colab-df-convert {\n",
              "      background-color: #E8F0FE;\n",
              "      border: none;\n",
              "      border-radius: 50%;\n",
              "      cursor: pointer;\n",
              "      display: none;\n",
              "      fill: #1967D2;\n",
              "      height: 32px;\n",
              "      padding: 0 0 0 0;\n",
              "      width: 32px;\n",
              "    }\n",
              "\n",
              "    .colab-df-convert:hover {\n",
              "      background-color: #E2EBFA;\n",
              "      box-shadow: 0px 1px 2px rgba(60, 64, 67, 0.3), 0px 1px 3px 1px rgba(60, 64, 67, 0.15);\n",
              "      fill: #174EA6;\n",
              "    }\n",
              "\n",
              "    [theme=dark] .colab-df-convert {\n",
              "      background-color: #3B4455;\n",
              "      fill: #D2E3FC;\n",
              "    }\n",
              "\n",
              "    [theme=dark] .colab-df-convert:hover {\n",
              "      background-color: #434B5C;\n",
              "      box-shadow: 0px 1px 3px 1px rgba(0, 0, 0, 0.15);\n",
              "      filter: drop-shadow(0px 1px 2px rgba(0, 0, 0, 0.3));\n",
              "      fill: #FFFFFF;\n",
              "    }\n",
              "  </style>\n",
              "\n",
              "      <script>\n",
              "        const buttonEl =\n",
              "          document.querySelector('#df-d7404add-5551-4b82-9920-76d62c185e18 button.colab-df-convert');\n",
              "        buttonEl.style.display =\n",
              "          google.colab.kernel.accessAllowed ? 'block' : 'none';\n",
              "\n",
              "        async function convertToInteractive(key) {\n",
              "          const element = document.querySelector('#df-d7404add-5551-4b82-9920-76d62c185e18');\n",
              "          const dataTable =\n",
              "            await google.colab.kernel.invokeFunction('convertToInteractive',\n",
              "                                                     [key], {});\n",
              "          if (!dataTable) return;\n",
              "\n",
              "          const docLinkHtml = 'Like what you see? Visit the ' +\n",
              "            '<a target=\"_blank\" href=https://colab.research.google.com/notebooks/data_table.ipynb>data table notebook</a>'\n",
              "            + ' to learn more about interactive tables.';\n",
              "          element.innerHTML = '';\n",
              "          dataTable['output_type'] = 'display_data';\n",
              "          await google.colab.output.renderOutput(dataTable, element);\n",
              "          const docLink = document.createElement('div');\n",
              "          docLink.innerHTML = docLinkHtml;\n",
              "          element.appendChild(docLink);\n",
              "        }\n",
              "      </script>\n",
              "    </div>\n",
              "  </div>\n",
              "  "
            ],
            "text/plain": [
              "   CreditScore  FirstPaymentDate  ... MonthsDelinquent  MonthsInRepayment\n",
              "0            0            199902  ...                0                 52\n",
              "1            0            199902  ...                0                144\n",
              "2            0            199902  ...                0                 67\n",
              "3            0            199902  ...                0                 35\n",
              "4            0            199902  ...                0                 54\n",
              "\n",
              "[5 rows x 28 columns]"
            ]
          },
          "metadata": {},
          "execution_count": 191
        }
      ]
    },
    {
      "cell_type": "code",
      "source": [
        "df.tail()"
      ],
      "metadata": {
        "colab": {
          "base_uri": "https://localhost:8080/",
          "height": 357
        },
        "id": "fLIn0qYf6WcK",
        "outputId": "3b93cd7d-4ec7-4b02-d81a-649a283dafab"
      },
      "execution_count": 192,
      "outputs": [
        {
          "output_type": "execute_result",
          "data": {
            "text/html": [
              "\n",
              "  <div id=\"df-326e9cc8-432b-491e-907f-b5a05a673dac\">\n",
              "    <div class=\"colab-df-container\">\n",
              "      <div>\n",
              "<style scoped>\n",
              "    .dataframe tbody tr th:only-of-type {\n",
              "        vertical-align: middle;\n",
              "    }\n",
              "\n",
              "    .dataframe tbody tr th {\n",
              "        vertical-align: top;\n",
              "    }\n",
              "\n",
              "    .dataframe thead th {\n",
              "        text-align: right;\n",
              "    }\n",
              "</style>\n",
              "<table border=\"1\" class=\"dataframe\">\n",
              "  <thead>\n",
              "    <tr style=\"text-align: right;\">\n",
              "      <th></th>\n",
              "      <th>CreditScore</th>\n",
              "      <th>FirstPaymentDate</th>\n",
              "      <th>FirstTimeHomebuyer</th>\n",
              "      <th>MaturityDate</th>\n",
              "      <th>MSA</th>\n",
              "      <th>MIP</th>\n",
              "      <th>Units</th>\n",
              "      <th>Occupancy</th>\n",
              "      <th>OCLTV</th>\n",
              "      <th>DTI</th>\n",
              "      <th>OrigUPB</th>\n",
              "      <th>LTV</th>\n",
              "      <th>OrigInterestRate</th>\n",
              "      <th>Channel</th>\n",
              "      <th>PPM</th>\n",
              "      <th>ProductType</th>\n",
              "      <th>PropertyState</th>\n",
              "      <th>PropertyType</th>\n",
              "      <th>PostalCode</th>\n",
              "      <th>LoanSeqNum</th>\n",
              "      <th>LoanPurpose</th>\n",
              "      <th>OrigLoanTerm</th>\n",
              "      <th>NumBorrowers</th>\n",
              "      <th>SellerName</th>\n",
              "      <th>ServicerName</th>\n",
              "      <th>EverDelinquent</th>\n",
              "      <th>MonthsDelinquent</th>\n",
              "      <th>MonthsInRepayment</th>\n",
              "    </tr>\n",
              "  </thead>\n",
              "  <tbody>\n",
              "    <tr>\n",
              "      <th>291446</th>\n",
              "      <td>839</td>\n",
              "      <td>199903</td>\n",
              "      <td>N</td>\n",
              "      <td>202902</td>\n",
              "      <td>37964</td>\n",
              "      <td>0</td>\n",
              "      <td>1</td>\n",
              "      <td>O</td>\n",
              "      <td>60</td>\n",
              "      <td>32</td>\n",
              "      <td>90000</td>\n",
              "      <td>60</td>\n",
              "      <td>7.000</td>\n",
              "      <td>R</td>\n",
              "      <td>N</td>\n",
              "      <td>FRM</td>\n",
              "      <td>PA</td>\n",
              "      <td>SF</td>\n",
              "      <td>19400</td>\n",
              "      <td>F199Q1220925</td>\n",
              "      <td>N</td>\n",
              "      <td>360</td>\n",
              "      <td>2</td>\n",
              "      <td>Ot</td>\n",
              "      <td>Other servicers</td>\n",
              "      <td>0</td>\n",
              "      <td>0</td>\n",
              "      <td>12</td>\n",
              "    </tr>\n",
              "    <tr>\n",
              "      <th>291447</th>\n",
              "      <td>840</td>\n",
              "      <td>200210</td>\n",
              "      <td>N</td>\n",
              "      <td>202904</td>\n",
              "      <td>35644</td>\n",
              "      <td>0</td>\n",
              "      <td>1</td>\n",
              "      <td>O</td>\n",
              "      <td>73</td>\n",
              "      <td>0</td>\n",
              "      <td>267000</td>\n",
              "      <td>73</td>\n",
              "      <td>6.375</td>\n",
              "      <td>C</td>\n",
              "      <td>N</td>\n",
              "      <td>FRM</td>\n",
              "      <td>NY</td>\n",
              "      <td>SF</td>\n",
              "      <td>11600</td>\n",
              "      <td>F199Q1401332</td>\n",
              "      <td>P</td>\n",
              "      <td>319</td>\n",
              "      <td>2</td>\n",
              "      <td>Ot</td>\n",
              "      <td>Other servicers</td>\n",
              "      <td>0</td>\n",
              "      <td>0</td>\n",
              "      <td>53</td>\n",
              "    </tr>\n",
              "    <tr>\n",
              "      <th>291448</th>\n",
              "      <td>840</td>\n",
              "      <td>200304</td>\n",
              "      <td>N</td>\n",
              "      <td>202904</td>\n",
              "      <td>42044</td>\n",
              "      <td>0</td>\n",
              "      <td>1</td>\n",
              "      <td>O</td>\n",
              "      <td>73</td>\n",
              "      <td>31</td>\n",
              "      <td>87000</td>\n",
              "      <td>73</td>\n",
              "      <td>5.625</td>\n",
              "      <td>R</td>\n",
              "      <td>N</td>\n",
              "      <td>FRM</td>\n",
              "      <td>CA</td>\n",
              "      <td>SF</td>\n",
              "      <td>92800</td>\n",
              "      <td>F199Q1401282</td>\n",
              "      <td>N</td>\n",
              "      <td>313</td>\n",
              "      <td>1</td>\n",
              "      <td>Ot</td>\n",
              "      <td>Other servicers</td>\n",
              "      <td>0</td>\n",
              "      <td>0</td>\n",
              "      <td>38</td>\n",
              "    </tr>\n",
              "    <tr>\n",
              "      <th>291449</th>\n",
              "      <td>845</td>\n",
              "      <td>199904</td>\n",
              "      <td>N</td>\n",
              "      <td>202903</td>\n",
              "      <td>37964</td>\n",
              "      <td>0</td>\n",
              "      <td>1</td>\n",
              "      <td>I</td>\n",
              "      <td>80</td>\n",
              "      <td>54</td>\n",
              "      <td>88000</td>\n",
              "      <td>80</td>\n",
              "      <td>7.000</td>\n",
              "      <td>R</td>\n",
              "      <td>N</td>\n",
              "      <td>FRM</td>\n",
              "      <td>PA</td>\n",
              "      <td>SF</td>\n",
              "      <td>19300</td>\n",
              "      <td>F199Q1220924</td>\n",
              "      <td>P</td>\n",
              "      <td>360</td>\n",
              "      <td>2</td>\n",
              "      <td>Ot</td>\n",
              "      <td>Other servicers</td>\n",
              "      <td>0</td>\n",
              "      <td>0</td>\n",
              "      <td>32</td>\n",
              "    </tr>\n",
              "    <tr>\n",
              "      <th>291450</th>\n",
              "      <td>849</td>\n",
              "      <td>199903</td>\n",
              "      <td>N</td>\n",
              "      <td>202902</td>\n",
              "      <td>37964</td>\n",
              "      <td>0</td>\n",
              "      <td>1</td>\n",
              "      <td>O</td>\n",
              "      <td>47</td>\n",
              "      <td>29</td>\n",
              "      <td>70000</td>\n",
              "      <td>47</td>\n",
              "      <td>7.000</td>\n",
              "      <td>R</td>\n",
              "      <td>N</td>\n",
              "      <td>FRM</td>\n",
              "      <td>PA</td>\n",
              "      <td>SF</td>\n",
              "      <td>18900</td>\n",
              "      <td>F199Q1220923</td>\n",
              "      <td>P</td>\n",
              "      <td>360</td>\n",
              "      <td>2</td>\n",
              "      <td>Ot</td>\n",
              "      <td>Other servicers</td>\n",
              "      <td>0</td>\n",
              "      <td>0</td>\n",
              "      <td>29</td>\n",
              "    </tr>\n",
              "  </tbody>\n",
              "</table>\n",
              "</div>\n",
              "      <button class=\"colab-df-convert\" onclick=\"convertToInteractive('df-326e9cc8-432b-491e-907f-b5a05a673dac')\"\n",
              "              title=\"Convert this dataframe to an interactive table.\"\n",
              "              style=\"display:none;\">\n",
              "        \n",
              "  <svg xmlns=\"http://www.w3.org/2000/svg\" height=\"24px\"viewBox=\"0 0 24 24\"\n",
              "       width=\"24px\">\n",
              "    <path d=\"M0 0h24v24H0V0z\" fill=\"none\"/>\n",
              "    <path d=\"M18.56 5.44l.94 2.06.94-2.06 2.06-.94-2.06-.94-.94-2.06-.94 2.06-2.06.94zm-11 1L8.5 8.5l.94-2.06 2.06-.94-2.06-.94L8.5 2.5l-.94 2.06-2.06.94zm10 10l.94 2.06.94-2.06 2.06-.94-2.06-.94-.94-2.06-.94 2.06-2.06.94z\"/><path d=\"M17.41 7.96l-1.37-1.37c-.4-.4-.92-.59-1.43-.59-.52 0-1.04.2-1.43.59L10.3 9.45l-7.72 7.72c-.78.78-.78 2.05 0 2.83L4 21.41c.39.39.9.59 1.41.59.51 0 1.02-.2 1.41-.59l7.78-7.78 2.81-2.81c.8-.78.8-2.07 0-2.86zM5.41 20L4 18.59l7.72-7.72 1.47 1.35L5.41 20z\"/>\n",
              "  </svg>\n",
              "      </button>\n",
              "      \n",
              "  <style>\n",
              "    .colab-df-container {\n",
              "      display:flex;\n",
              "      flex-wrap:wrap;\n",
              "      gap: 12px;\n",
              "    }\n",
              "\n",
              "    .colab-df-convert {\n",
              "      background-color: #E8F0FE;\n",
              "      border: none;\n",
              "      border-radius: 50%;\n",
              "      cursor: pointer;\n",
              "      display: none;\n",
              "      fill: #1967D2;\n",
              "      height: 32px;\n",
              "      padding: 0 0 0 0;\n",
              "      width: 32px;\n",
              "    }\n",
              "\n",
              "    .colab-df-convert:hover {\n",
              "      background-color: #E2EBFA;\n",
              "      box-shadow: 0px 1px 2px rgba(60, 64, 67, 0.3), 0px 1px 3px 1px rgba(60, 64, 67, 0.15);\n",
              "      fill: #174EA6;\n",
              "    }\n",
              "\n",
              "    [theme=dark] .colab-df-convert {\n",
              "      background-color: #3B4455;\n",
              "      fill: #D2E3FC;\n",
              "    }\n",
              "\n",
              "    [theme=dark] .colab-df-convert:hover {\n",
              "      background-color: #434B5C;\n",
              "      box-shadow: 0px 1px 3px 1px rgba(0, 0, 0, 0.15);\n",
              "      filter: drop-shadow(0px 1px 2px rgba(0, 0, 0, 0.3));\n",
              "      fill: #FFFFFF;\n",
              "    }\n",
              "  </style>\n",
              "\n",
              "      <script>\n",
              "        const buttonEl =\n",
              "          document.querySelector('#df-326e9cc8-432b-491e-907f-b5a05a673dac button.colab-df-convert');\n",
              "        buttonEl.style.display =\n",
              "          google.colab.kernel.accessAllowed ? 'block' : 'none';\n",
              "\n",
              "        async function convertToInteractive(key) {\n",
              "          const element = document.querySelector('#df-326e9cc8-432b-491e-907f-b5a05a673dac');\n",
              "          const dataTable =\n",
              "            await google.colab.kernel.invokeFunction('convertToInteractive',\n",
              "                                                     [key], {});\n",
              "          if (!dataTable) return;\n",
              "\n",
              "          const docLinkHtml = 'Like what you see? Visit the ' +\n",
              "            '<a target=\"_blank\" href=https://colab.research.google.com/notebooks/data_table.ipynb>data table notebook</a>'\n",
              "            + ' to learn more about interactive tables.';\n",
              "          element.innerHTML = '';\n",
              "          dataTable['output_type'] = 'display_data';\n",
              "          await google.colab.output.renderOutput(dataTable, element);\n",
              "          const docLink = document.createElement('div');\n",
              "          docLink.innerHTML = docLinkHtml;\n",
              "          element.appendChild(docLink);\n",
              "        }\n",
              "      </script>\n",
              "    </div>\n",
              "  </div>\n",
              "  "
            ],
            "text/plain": [
              "        CreditScore  FirstPaymentDate  ... MonthsDelinquent  MonthsInRepayment\n",
              "291446          839            199903  ...                0                 12\n",
              "291447          840            200210  ...                0                 53\n",
              "291448          840            200304  ...                0                 38\n",
              "291449          845            199904  ...                0                 32\n",
              "291450          849            199903  ...                0                 29\n",
              "\n",
              "[5 rows x 28 columns]"
            ]
          },
          "metadata": {},
          "execution_count": 192
        }
      ]
    },
    {
      "cell_type": "code",
      "source": [
        "df.shape"
      ],
      "metadata": {
        "colab": {
          "base_uri": "https://localhost:8080/"
        },
        "id": "hB8tkg_r6rhH",
        "outputId": "cdee0c36-5e84-45ab-8c7f-5f2af2820a49"
      },
      "execution_count": 193,
      "outputs": [
        {
          "output_type": "execute_result",
          "data": {
            "text/plain": [
              "(291451, 28)"
            ]
          },
          "metadata": {},
          "execution_count": 193
        }
      ]
    },
    {
      "cell_type": "code",
      "source": [
        "df.columns"
      ],
      "metadata": {
        "colab": {
          "base_uri": "https://localhost:8080/"
        },
        "id": "-RTMOiTQ6xZU",
        "outputId": "fb97ff21-f275-466e-a71e-cf4d341210fa"
      },
      "execution_count": 194,
      "outputs": [
        {
          "output_type": "execute_result",
          "data": {
            "text/plain": [
              "Index(['CreditScore', 'FirstPaymentDate', 'FirstTimeHomebuyer', 'MaturityDate',\n",
              "       'MSA', 'MIP', 'Units', 'Occupancy', 'OCLTV', 'DTI', 'OrigUPB', 'LTV',\n",
              "       'OrigInterestRate', 'Channel', 'PPM', 'ProductType', 'PropertyState',\n",
              "       'PropertyType', 'PostalCode', 'LoanSeqNum', 'LoanPurpose',\n",
              "       'OrigLoanTerm', 'NumBorrowers', 'SellerName', 'ServicerName',\n",
              "       'EverDelinquent', 'MonthsDelinquent', 'MonthsInRepayment'],\n",
              "      dtype='object')"
            ]
          },
          "metadata": {},
          "execution_count": 194
        }
      ]
    },
    {
      "cell_type": "markdown",
      "source": [
        "#### **Checking the types of data**"
      ],
      "metadata": {
        "id": "lp-3xmw16adm"
      }
    },
    {
      "cell_type": "code",
      "source": [
        "df.dtypes"
      ],
      "metadata": {
        "colab": {
          "base_uri": "https://localhost:8080/"
        },
        "id": "nvRsDGux6n-m",
        "outputId": "330ba59d-afe2-4277-91b1-dd5111e3ad67"
      },
      "execution_count": 195,
      "outputs": [
        {
          "output_type": "execute_result",
          "data": {
            "text/plain": [
              "CreditScore             int64\n",
              "FirstPaymentDate        int64\n",
              "FirstTimeHomebuyer     object\n",
              "MaturityDate            int64\n",
              "MSA                    object\n",
              "MIP                     int64\n",
              "Units                   int64\n",
              "Occupancy              object\n",
              "OCLTV                   int64\n",
              "DTI                     int64\n",
              "OrigUPB                 int64\n",
              "LTV                     int64\n",
              "OrigInterestRate      float64\n",
              "Channel                object\n",
              "PPM                    object\n",
              "ProductType            object\n",
              "PropertyState          object\n",
              "PropertyType           object\n",
              "PostalCode             object\n",
              "LoanSeqNum             object\n",
              "LoanPurpose            object\n",
              "OrigLoanTerm            int64\n",
              "NumBorrowers           object\n",
              "SellerName             object\n",
              "ServicerName           object\n",
              "EverDelinquent          int64\n",
              "MonthsDelinquent        int64\n",
              "MonthsInRepayment       int64\n",
              "dtype: object"
            ]
          },
          "metadata": {},
          "execution_count": 195
        }
      ]
    },
    {
      "cell_type": "code",
      "source": [
        "df.nunique()"
      ],
      "metadata": {
        "colab": {
          "base_uri": "https://localhost:8080/"
        },
        "id": "o6RUx7mZ6wf7",
        "outputId": "4cf943ac-ac69-43bf-bd4a-34950741e8c0"
      },
      "execution_count": 196,
      "outputs": [
        {
          "output_type": "execute_result",
          "data": {
            "text/plain": [
              "CreditScore              370\n",
              "FirstPaymentDate          66\n",
              "FirstTimeHomebuyer         3\n",
              "MaturityDate              96\n",
              "MSA                      392\n",
              "MIP                       37\n",
              "Units                      5\n",
              "Occupancy                  3\n",
              "OCLTV                    102\n",
              "DTI                       66\n",
              "OrigUPB                  375\n",
              "LTV                       97\n",
              "OrigInterestRate         254\n",
              "Channel                    4\n",
              "PPM                        3\n",
              "ProductType                1\n",
              "PropertyState             53\n",
              "PropertyType               7\n",
              "PostalCode              1767\n",
              "LoanSeqNum            291451\n",
              "LoanPurpose                3\n",
              "OrigLoanTerm              61\n",
              "NumBorrowers               3\n",
              "SellerName                20\n",
              "ServicerName              20\n",
              "EverDelinquent             2\n",
              "MonthsDelinquent         174\n",
              "MonthsInRepayment        212\n",
              "dtype: int64"
            ]
          },
          "metadata": {},
          "execution_count": 196
        }
      ]
    },
    {
      "cell_type": "markdown",
      "source": [
        " #### **Dropping the missing or null values.**\n"
      ],
      "metadata": {
        "id": "BWAg4G-R7LY4"
      }
    },
    {
      "cell_type": "code",
      "source": [
        "missing_values_count=df.isnull().sum()\n",
        "missing_values_count"
      ],
      "metadata": {
        "colab": {
          "base_uri": "https://localhost:8080/"
        },
        "id": "O1yIG3DB7JKz",
        "outputId": "80e1c6e9-e202-45ce-ecf0-5d222b16f336"
      },
      "execution_count": 197,
      "outputs": [
        {
          "output_type": "execute_result",
          "data": {
            "text/plain": [
              "CreditScore               0\n",
              "FirstPaymentDate          0\n",
              "FirstTimeHomebuyer        0\n",
              "MaturityDate              0\n",
              "MSA                       0\n",
              "MIP                       0\n",
              "Units                     0\n",
              "Occupancy                 0\n",
              "OCLTV                     0\n",
              "DTI                       0\n",
              "OrigUPB                   0\n",
              "LTV                       0\n",
              "OrigInterestRate          0\n",
              "Channel                   0\n",
              "PPM                       0\n",
              "ProductType               0\n",
              "PropertyState             0\n",
              "PropertyType              0\n",
              "PostalCode                0\n",
              "LoanSeqNum                0\n",
              "LoanPurpose               0\n",
              "OrigLoanTerm              0\n",
              "NumBorrowers              0\n",
              "SellerName            24994\n",
              "ServicerName              0\n",
              "EverDelinquent            0\n",
              "MonthsDelinquent          0\n",
              "MonthsInRepayment         0\n",
              "dtype: int64"
            ]
          },
          "metadata": {},
          "execution_count": 197
        }
      ]
    },
    {
      "cell_type": "markdown",
      "source": [
        "#### **Dropping irrelevant columns**\n"
      ],
      "metadata": {
        "id": "3UWVwlWK-P0t"
      }
    },
    {
      "cell_type": "code",
      "source": [
        "df=df.drop(['FirstPaymentDate','MaturityDate','MSA','Occupancy','Channel','PPM','ProductType','PropertyState','PropertyType',\n",
        "            'PostalCode','LoanSeqNum','LoanPurpose','NumBorrowers','SellerName','ServicerName'],axis=1)\n",
        "\n",
        "  \n"
      ],
      "metadata": {
        "id": "fHxuXVnDOihi"
      },
      "execution_count": 198,
      "outputs": []
    },
    {
      "cell_type": "markdown",
      "source": [
        "#### **Dropping the rest rows with NA values**"
      ],
      "metadata": {
        "id": "EsLaDvHREL3T"
      }
    },
    {
      "cell_type": "code",
      "source": [
        "df.dropna(inplace=True)\n",
        "df.info()\n",
        "df.shape\n"
      ],
      "metadata": {
        "id": "hMP-U6a4ESi-",
        "colab": {
          "base_uri": "https://localhost:8080/"
        },
        "outputId": "27800f33-3256-4c2f-e572-d457da658fed"
      },
      "execution_count": 199,
      "outputs": [
        {
          "output_type": "stream",
          "name": "stdout",
          "text": [
            "<class 'pandas.core.frame.DataFrame'>\n",
            "Int64Index: 291451 entries, 0 to 291450\n",
            "Data columns (total 13 columns):\n",
            " #   Column              Non-Null Count   Dtype  \n",
            "---  ------              --------------   -----  \n",
            " 0   CreditScore         291451 non-null  int64  \n",
            " 1   FirstTimeHomebuyer  291451 non-null  object \n",
            " 2   MIP                 291451 non-null  int64  \n",
            " 3   Units               291451 non-null  int64  \n",
            " 4   OCLTV               291451 non-null  int64  \n",
            " 5   DTI                 291451 non-null  int64  \n",
            " 6   OrigUPB             291451 non-null  int64  \n",
            " 7   LTV                 291451 non-null  int64  \n",
            " 8   OrigInterestRate    291451 non-null  float64\n",
            " 9   OrigLoanTerm        291451 non-null  int64  \n",
            " 10  EverDelinquent      291451 non-null  int64  \n",
            " 11  MonthsDelinquent    291451 non-null  int64  \n",
            " 12  MonthsInRepayment   291451 non-null  int64  \n",
            "dtypes: float64(1), int64(11), object(1)\n",
            "memory usage: 31.1+ MB\n"
          ]
        },
        {
          "output_type": "execute_result",
          "data": {
            "text/plain": [
              "(291451, 13)"
            ]
          },
          "metadata": {},
          "execution_count": 199
        }
      ]
    },
    {
      "cell_type": "markdown",
      "source": [
        "#### Converting Data into Range"
      ],
      "metadata": {
        "id": "uYE56qSppa5s"
      }
    },
    {
      "cell_type": "code",
      "source": [
        "df.CreditScore.unique()"
      ],
      "metadata": {
        "colab": {
          "base_uri": "https://localhost:8080/"
        },
        "id": "p1T2SmwNjaxD",
        "outputId": "f15e402e-3e92-4ccf-c04c-3089adff7ddb"
      },
      "execution_count": 200,
      "outputs": [
        {
          "output_type": "execute_result",
          "data": {
            "text/plain": [
              "array([  0, 335, 342, 363, 366, 370, 375, 391, 396, 445, 462, 466, 471,\n",
              "       476, 477, 478, 479, 481, 482, 483, 485, 486, 487, 489, 490, 491,\n",
              "       492, 493, 494, 495, 496, 497, 498, 499, 500, 501, 502, 503, 504,\n",
              "       505, 506, 507, 508, 509, 510, 511, 512, 513, 514, 515, 516, 517,\n",
              "       518, 519, 520, 521, 522, 523, 524, 525, 526, 527, 528, 529, 530,\n",
              "       531, 532, 533, 534, 535, 536, 537, 538, 539, 540, 541, 542, 543,\n",
              "       544, 545, 546, 547, 548, 549, 550, 551, 552, 553, 554, 555, 556,\n",
              "       557, 558, 559, 560, 561, 562, 563, 564, 565, 566, 567, 568, 569,\n",
              "       570, 571, 572, 573, 574, 575, 576, 577, 578, 579, 580, 581, 582,\n",
              "       583, 584, 585, 586, 587, 588, 589, 590, 591, 592, 593, 594, 595,\n",
              "       596, 597, 598, 599, 600, 601, 602, 603, 604, 605, 606, 607, 608,\n",
              "       609, 610, 611, 612, 613, 614, 615, 616, 617, 618, 619, 620, 621,\n",
              "       622, 623, 624, 625, 626, 627, 628, 629, 630, 631, 632, 633, 634,\n",
              "       635, 636, 637, 638, 639, 640, 641, 642, 643, 644, 645, 646, 647,\n",
              "       648, 649, 650, 651, 652, 653, 654, 655, 656, 657, 658, 659, 660,\n",
              "       661, 662, 663, 664, 665, 666, 667, 668, 669, 670, 671, 672, 673,\n",
              "       674, 675, 676, 677, 678, 679, 680, 681, 682, 683, 684, 685, 686,\n",
              "       687, 688, 689, 690, 691, 692, 693, 694, 695, 696, 697, 698, 699,\n",
              "       700, 701, 702, 703, 704, 705, 706, 707, 708, 709, 710, 711, 712,\n",
              "       713, 714, 715, 716, 717, 718, 719, 720, 721, 722, 723, 724, 725,\n",
              "       726, 727, 728, 729, 730, 731, 732, 733, 734, 735, 736, 737, 738,\n",
              "       739, 740, 741, 742, 743, 744, 745, 746, 747, 748, 749, 750, 751,\n",
              "       752, 753, 754, 755, 756, 757, 758, 759, 760, 761, 762, 763, 764,\n",
              "       765, 766, 767, 768, 769, 770, 771, 772, 773, 774, 775, 776, 777,\n",
              "       778, 779, 780, 781, 782, 783, 784, 785, 786, 787, 788, 789, 790,\n",
              "       791, 792, 793, 794, 795, 796, 797, 798, 799, 800, 801, 802, 803,\n",
              "       804, 805, 806, 807, 808, 809, 810, 811, 812, 813, 814, 815, 816,\n",
              "       817, 818, 819, 820, 822, 823, 825, 826, 827, 828, 829, 831, 835,\n",
              "       837, 838, 839, 840, 845, 849])"
            ]
          },
          "metadata": {},
          "execution_count": 200
        }
      ]
    },
    {
      "cell_type": "markdown",
      "source": [
        "CreditScore contains a 0 which the data definition states is actually 850.Converting  all 0's to 850\n"
      ],
      "metadata": {
        "id": "pDkGQunA1_SS"
      }
    },
    {
      "cell_type": "code",
      "source": [
        "df['CreditScore'] = np.where(df['CreditScore'] == 0, 850, df['CreditScore'])\n",
        "df.CreditScore.unique()"
      ],
      "metadata": {
        "colab": {
          "base_uri": "https://localhost:8080/"
        },
        "id": "aYfSy2xL1-Tr",
        "outputId": "f307928b-5c08-4faa-91dc-f72d22308733"
      },
      "execution_count": 201,
      "outputs": [
        {
          "output_type": "execute_result",
          "data": {
            "text/plain": [
              "array([850, 335, 342, 363, 366, 370, 375, 391, 396, 445, 462, 466, 471,\n",
              "       476, 477, 478, 479, 481, 482, 483, 485, 486, 487, 489, 490, 491,\n",
              "       492, 493, 494, 495, 496, 497, 498, 499, 500, 501, 502, 503, 504,\n",
              "       505, 506, 507, 508, 509, 510, 511, 512, 513, 514, 515, 516, 517,\n",
              "       518, 519, 520, 521, 522, 523, 524, 525, 526, 527, 528, 529, 530,\n",
              "       531, 532, 533, 534, 535, 536, 537, 538, 539, 540, 541, 542, 543,\n",
              "       544, 545, 546, 547, 548, 549, 550, 551, 552, 553, 554, 555, 556,\n",
              "       557, 558, 559, 560, 561, 562, 563, 564, 565, 566, 567, 568, 569,\n",
              "       570, 571, 572, 573, 574, 575, 576, 577, 578, 579, 580, 581, 582,\n",
              "       583, 584, 585, 586, 587, 588, 589, 590, 591, 592, 593, 594, 595,\n",
              "       596, 597, 598, 599, 600, 601, 602, 603, 604, 605, 606, 607, 608,\n",
              "       609, 610, 611, 612, 613, 614, 615, 616, 617, 618, 619, 620, 621,\n",
              "       622, 623, 624, 625, 626, 627, 628, 629, 630, 631, 632, 633, 634,\n",
              "       635, 636, 637, 638, 639, 640, 641, 642, 643, 644, 645, 646, 647,\n",
              "       648, 649, 650, 651, 652, 653, 654, 655, 656, 657, 658, 659, 660,\n",
              "       661, 662, 663, 664, 665, 666, 667, 668, 669, 670, 671, 672, 673,\n",
              "       674, 675, 676, 677, 678, 679, 680, 681, 682, 683, 684, 685, 686,\n",
              "       687, 688, 689, 690, 691, 692, 693, 694, 695, 696, 697, 698, 699,\n",
              "       700, 701, 702, 703, 704, 705, 706, 707, 708, 709, 710, 711, 712,\n",
              "       713, 714, 715, 716, 717, 718, 719, 720, 721, 722, 723, 724, 725,\n",
              "       726, 727, 728, 729, 730, 731, 732, 733, 734, 735, 736, 737, 738,\n",
              "       739, 740, 741, 742, 743, 744, 745, 746, 747, 748, 749, 750, 751,\n",
              "       752, 753, 754, 755, 756, 757, 758, 759, 760, 761, 762, 763, 764,\n",
              "       765, 766, 767, 768, 769, 770, 771, 772, 773, 774, 775, 776, 777,\n",
              "       778, 779, 780, 781, 782, 783, 784, 785, 786, 787, 788, 789, 790,\n",
              "       791, 792, 793, 794, 795, 796, 797, 798, 799, 800, 801, 802, 803,\n",
              "       804, 805, 806, 807, 808, 809, 810, 811, 812, 813, 814, 815, 816,\n",
              "       817, 818, 819, 820, 822, 823, 825, 826, 827, 828, 829, 831, 835,\n",
              "       837, 838, 839, 840, 845, 849])"
            ]
          },
          "metadata": {},
          "execution_count": 201
        }
      ]
    },
    {
      "cell_type": "markdown",
      "source": [
        " Create new variable for CREDIT_SCORE.\n",
        " New values = Poor (0-650), Fair (650-700), Good (700-750), Excellent (750-900)"
      ],
      "metadata": {
        "id": "wdrlrVFF2e2k"
      }
    },
    {
      "cell_type": "code",
      "source": [
        "df['CreditRange'] = pd.cut(df.CreditScore,[550,650,700,750,850],4,labels=[1,2,3,4])\n",
        "df.CreditScore.value_counts()"
      ],
      "metadata": {
        "colab": {
          "base_uri": "https://localhost:8080/"
        },
        "id": "A24sb7O6pVx9",
        "outputId": "45fa3ad4-5950-45b8-a785-10057adc10c9"
      },
      "execution_count": 202,
      "outputs": [
        {
          "output_type": "execute_result",
          "data": {
            "text/plain": [
              "748    2567\n",
              "734    2537\n",
              "747    2456\n",
              "753    2427\n",
              "764    2419\n",
              "       ... \n",
              "391       1\n",
              "396       1\n",
              "445       1\n",
              "462       1\n",
              "849       1\n",
              "Name: CreditScore, Length: 370, dtype: int64"
            ]
          },
          "metadata": {},
          "execution_count": 202
        }
      ]
    },
    {
      "cell_type": "code",
      "source": [
        "df.FirstTimeHomebuyer.unique()"
      ],
      "metadata": {
        "colab": {
          "base_uri": "https://localhost:8080/"
        },
        "id": "_OoLnGYTjdZ3",
        "outputId": "63cd2fb2-f1af-4eed-df2c-1f22d2f6923e"
      },
      "execution_count": 203,
      "outputs": [
        {
          "output_type": "execute_result",
          "data": {
            "text/plain": [
              "array(['N', 'X', 'Y'], dtype=object)"
            ]
          },
          "metadata": {},
          "execution_count": 203
        }
      ]
    },
    {
      "cell_type": "markdown",
      "source": [
        "FirstTimeHomebuyer contains X's which stand for unknowns,i.e. Nulls. \n",
        "Need to remove all rows that do not have a valid answer, Y/N, as they are not useful to our research.\n"
      ],
      "metadata": {
        "id": "TohD72ZT3Knu"
      }
    },
    {
      "cell_type": "code",
      "source": [
        "df = df[df.FirstTimeHomebuyer != 'X']\n",
        "df.FirstTimeHomebuyer.unique()"
      ],
      "metadata": {
        "colab": {
          "base_uri": "https://localhost:8080/"
        },
        "id": "zcvq5Y_M3Ryq",
        "outputId": "5b7f5be4-13e3-45cd-97e8-b5da3f37157e"
      },
      "execution_count": 204,
      "outputs": [
        {
          "output_type": "execute_result",
          "data": {
            "text/plain": [
              "array(['N', 'Y'], dtype=object)"
            ]
          },
          "metadata": {},
          "execution_count": 204
        }
      ]
    },
    {
      "cell_type": "code",
      "source": [
        "# Check the row and column count of our dataset to see how many rows were just removed.\n",
        "df.shape"
      ],
      "metadata": {
        "colab": {
          "base_uri": "https://localhost:8080/"
        },
        "id": "OixpgiIA7H8E",
        "outputId": "ae7e3d47-ab93-4d0d-a8d1-573b9866b2b5"
      },
      "execution_count": 205,
      "outputs": [
        {
          "output_type": "execute_result",
          "data": {
            "text/plain": [
              "(213436, 14)"
            ]
          },
          "metadata": {},
          "execution_count": 205
        }
      ]
    },
    {
      "cell_type": "code",
      "source": [
        "# Count values in FIRST_TIME_HOMEBUYER_FLAG\n",
        "df['FirstTimeHomebuyer'].value_counts()"
      ],
      "metadata": {
        "colab": {
          "base_uri": "https://localhost:8080/"
        },
        "id": "as93_NWLjqAv",
        "outputId": "d8d1d354-68e7-4d41-a4b8-1dffa6170e35"
      },
      "execution_count": 206,
      "outputs": [
        {
          "output_type": "execute_result",
          "data": {
            "text/plain": [
              "N    184154\n",
              "Y     29282\n",
              "Name: FirstTimeHomebuyer, dtype: int64"
            ]
          },
          "metadata": {},
          "execution_count": 206
        }
      ]
    },
    {
      "cell_type": "code",
      "source": [
        "# Convert Y/N to 1 or 0 and then count values again to ensure they match\n",
        "df['FirstTimeHomebuyer'] = np.where(df['FirstTimeHomebuyer'] == 'Y', 1, 0)\n",
        "df['FirstTimeHomebuyer'].value_counts()"
      ],
      "metadata": {
        "colab": {
          "base_uri": "https://localhost:8080/"
        },
        "id": "IrZycLr7maKU",
        "outputId": "af91e18d-e9b7-4952-dfe4-b78ce9353475"
      },
      "execution_count": 207,
      "outputs": [
        {
          "output_type": "execute_result",
          "data": {
            "text/plain": [
              "0    184154\n",
              "1     29282\n",
              "Name: FirstTimeHomebuyer, dtype: int64"
            ]
          },
          "metadata": {},
          "execution_count": 207
        }
      ]
    },
    {
      "cell_type": "code",
      "source": [
        "df.OCLTV.unique()"
      ],
      "metadata": {
        "colab": {
          "base_uri": "https://localhost:8080/"
        },
        "id": "GNibmRtvpIDC",
        "outputId": "74558ac1-85f6-4f21-a9b2-8b025b2c3fc5"
      },
      "execution_count": 208,
      "outputs": [
        {
          "output_type": "execute_result",
          "data": {
            "text/plain": [
              "array([ 89,  73,  75,  76,  78,  90,  95,  80,  77,  85,  93,  70,  74,\n",
              "        79,  72,  62,  44,  32,  64,  91,  53,  69,  60,  54,  52,  84,\n",
              "        68,  36,  55,  96,  97,  46,  58,  63,  83,  87,  94,  48,  50,\n",
              "        51,  67,  86,  81,  66,  71,  82,  88,  26,  59,  57,  61,  30,\n",
              "        24,  34,  37,  42,  65,  31, 100,   7,  38,  39,  16,  41,  33,\n",
              "        92,  40,  35,  56,  22,  28,  43,  47,  49,  98,  29,  45,  25,\n",
              "       103,  10,  18,  23,  20,  15, 102, 101,  14,  21,  27, 105,  19,\n",
              "         8,   0, 104,  17, 110,  99,  12,   6,  13,   9,  11])"
            ]
          },
          "metadata": {},
          "execution_count": 208
        }
      ]
    },
    {
      "cell_type": "code",
      "source": [
        "df.Units.unique()"
      ],
      "metadata": {
        "colab": {
          "base_uri": "https://localhost:8080/"
        },
        "id": "V8k4D52f7RIK",
        "outputId": "3ee849aa-3a8f-4a59-b246-af1ee3338341"
      },
      "execution_count": 209,
      "outputs": [
        {
          "output_type": "execute_result",
          "data": {
            "text/plain": [
              "array([1, 2, 3, 4, 0])"
            ]
          },
          "metadata": {},
          "execution_count": 209
        }
      ]
    },
    {
      "cell_type": "code",
      "source": [
        "df['Units'].value_counts()"
      ],
      "metadata": {
        "colab": {
          "base_uri": "https://localhost:8080/"
        },
        "id": "kHFVPL0N7iMs",
        "outputId": "5a45b3dd-403f-4073-bd78-0a025e05c7f6"
      },
      "execution_count": 210,
      "outputs": [
        {
          "output_type": "execute_result",
          "data": {
            "text/plain": [
              "1    209501\n",
              "2      3242\n",
              "3       346\n",
              "4       345\n",
              "0         2\n",
              "Name: Units, dtype: int64"
            ]
          },
          "metadata": {},
          "execution_count": 210
        }
      ]
    },
    {
      "cell_type": "code",
      "source": [
        "# Units = 0 means that we do not have data on this so it is really a Null value, removing those rows.\n",
        "df = df[df.Units != 0]\n",
        "df['Units'].value_counts()"
      ],
      "metadata": {
        "colab": {
          "base_uri": "https://localhost:8080/"
        },
        "id": "1Xf04yxc7vWG",
        "outputId": "544be481-0175-4b68-a3b4-bbd4be3f9113"
      },
      "execution_count": 211,
      "outputs": [
        {
          "output_type": "execute_result",
          "data": {
            "text/plain": [
              "1    209501\n",
              "2      3242\n",
              "3       346\n",
              "4       345\n",
              "Name: Units, dtype: int64"
            ]
          },
          "metadata": {},
          "execution_count": 211
        }
      ]
    },
    {
      "cell_type": "code",
      "source": [
        "df.MIP.unique()"
      ],
      "metadata": {
        "colab": {
          "base_uri": "https://localhost:8080/"
        },
        "id": "lLtPZuOt7kMg",
        "outputId": "745b45c2-fe54-4e29-e5c3-9948134942f5"
      },
      "execution_count": 212,
      "outputs": [
        {
          "output_type": "execute_result",
          "data": {
            "text/plain": [
              "array([25,  0, 30, 12, 35, 29, 17, 18, 20, 22,  6, 14, 33, 16, 52, 36, 28,\n",
              "       11, 45, 27, 10, 50, 47,  7, 24, 15, 37, 32, 26,  1, 13, 21, 23, 55,\n",
              "        4])"
            ]
          },
          "metadata": {},
          "execution_count": 212
        }
      ]
    },
    {
      "cell_type": "code",
      "source": [
        "# Find values in DTI\n",
        "df.DTI.unique()"
      ],
      "metadata": {
        "colab": {
          "base_uri": "https://localhost:8080/"
        },
        "id": "c6p_wi4B7n3a",
        "outputId": "78600d78-1dda-4b8a-c776-2e075d3a3d42"
      },
      "execution_count": 213,
      "outputs": [
        {
          "output_type": "execute_result",
          "data": {
            "text/plain": [
              "array([27, 17, 16, 14, 18, 40, 21, 38, 19, 23, 45, 28, 29, 15, 43, 25, 24,\n",
              "       26, 20, 35, 46, 39, 33, 48, 30, 31, 22, 56, 32, 12,  6, 37, 36, 42,\n",
              "       34, 11, 41,  8, 44, 55,  0, 51, 10,  7, 47,  9, 13, 65, 54,  2, 53,\n",
              "       57,  5,  3,  4, 50, 59, 49, 52, 64, 60, 58,  1, 61, 62, 63])"
            ]
          },
          "metadata": {},
          "execution_count": 213
        }
      ]
    },
    {
      "cell_type": "code",
      "source": [
        "# Find values in OrigUPB\n",
        "df.OrigUPB.unique()"
      ],
      "metadata": {
        "colab": {
          "base_uri": "https://localhost:8080/"
        },
        "id": "qTHx1HbG75ay",
        "outputId": "7ecc4d1b-ddbb-40fd-ce09-b7b00b3506e9"
      },
      "execution_count": 214,
      "outputs": [
        {
          "output_type": "execute_result",
          "data": {
            "text/plain": [
              "array([117000, 109000,  88000, 160000, 207000, 111000,  55000,  35000,\n",
              "       126000, 200000,  70000,  93000,  79000,  54000,  80000, 231000,\n",
              "       145000, 187000, 148000,  90000,  65000,  86000, 122000, 157000,\n",
              "        94000,  63000,  50000, 100000, 191000, 204000, 222000, 189000,\n",
              "        57000, 202000, 137000,  56000, 140000,  18000,  76000,  77000,\n",
              "       151000, 118000, 182000,  98000,  89000, 172000,  82000, 240000,\n",
              "       102000, 173000,  51000, 169000, 101000, 152000, 141000,  47000,\n",
              "       128000, 133000, 135000, 115000, 144000, 146000, 212000, 176000,\n",
              "       214000, 190000, 227000,  99000,  83000,  49000,  29000, 124000,\n",
              "       132000, 150000, 300000,  95000, 149000, 162000, 226000, 110000,\n",
              "       112000, 219000, 236000,  67000, 195000, 164000, 198000,  60000,\n",
              "       194000, 147000, 104000,  72000, 183000, 154000, 179000,  66000,\n",
              "       210000,  46000,  96000, 225000, 156000,  45000, 235000, 113000,\n",
              "       139000,  74000,  68000,  69000, 238000, 142000,  73000,  48000,\n",
              "        97000,  44000,  36000,  42000, 193000, 119000, 131000,  26000,\n",
              "       114000, 143000,  81000,  52000, 209000, 248000, 185000,  61000,\n",
              "        30000,  41000,  38000,  92000,  62000, 170000,  87000,  75000,\n",
              "       174000, 155000, 103000,  59000, 230000, 105000, 177000, 130000,\n",
              "        84000, 138000, 116000,  23000, 125000,  34000,  33000, 171000,\n",
              "       213000, 127000, 205000, 120000, 123000, 203000, 291000, 216000,\n",
              "       158000, 167000, 153000,  20000, 220000, 175000, 211000, 163000,\n",
              "        43000,  39000, 136000,  53000,  71000,  28000,  31000, 234000,\n",
              "        32000, 188000, 239000, 107000,  58000,  37000, 181000, 215000,\n",
              "       217000, 166000, 228000,  40000, 134000, 106000, 307000, 108000,\n",
              "       197000,  64000, 180000,  91000, 192000,  85000, 129000,  78000,\n",
              "       184000, 206000, 165000, 232000, 208000, 201000,  13000, 121000,\n",
              "       161000,  27000, 196000, 221000, 304000, 278000,  24000, 159000,\n",
              "       284000, 178000, 261000, 313000,  25000, 262000, 168000, 223000,\n",
              "       323000, 229000, 306000, 224000, 250000, 199000, 254000, 247000,\n",
              "       244000, 274000, 329000, 272000, 265000, 233000, 270000, 252000,\n",
              "       264000, 348000, 276000, 266000, 328000, 186000, 218000, 237000,\n",
              "       280000, 256000, 315000, 338000, 267000, 285000, 258000, 257000,\n",
              "       327000, 282000, 251000,  17000,  16000,  14000, 277000, 260000,\n",
              "       287000, 319000,  15000, 279000, 390000,  22000, 281000, 269000,\n",
              "       249000, 275000, 241000, 359000, 259000, 299000, 297000, 253000,\n",
              "       242000, 263000, 273000, 286000, 302000, 243000, 271000, 360000,\n",
              "       290000, 255000,  10000, 303000, 371000, 268000, 316000,  21000,\n",
              "       350000, 293000, 292000, 320000, 288000, 312000, 296000, 352000,\n",
              "       325000, 318000, 326000, 305000, 294000, 345000, 331000, 283000,\n",
              "       246000,  19000, 311000, 289000, 361000, 400000, 308000, 245000,\n",
              "       310000, 295000, 368000, 428000, 330000, 336000, 309000, 423000,\n",
              "       298000, 358000, 340000, 354000, 399000, 339000, 461000, 364000,\n",
              "       353000, 497000, 341000,  12000, 442000, 410000, 324000, 344000,\n",
              "       431000, 301000, 333000, 413000, 322000, 346000, 389000, 398000,\n",
              "       314000,  11000, 370000, 440000, 332000, 317000, 402000, 363000])"
            ]
          },
          "metadata": {},
          "execution_count": 214
        }
      ]
    },
    {
      "cell_type": "code",
      "source": [
        "# Find values in LTV\n",
        "df.LTV.unique()"
      ],
      "metadata": {
        "colab": {
          "base_uri": "https://localhost:8080/"
        },
        "id": "fzHfLsQv7-M5",
        "outputId": "af80fd1a-8bb2-435a-e21b-358be0a5ee5f"
      },
      "execution_count": 215,
      "outputs": [
        {
          "output_type": "execute_result",
          "data": {
            "text/plain": [
              "array([ 89,  73,  75,  76,  78,  90,  95,  80,  77,  85,  93,  70,  74,\n",
              "        79,  72,  62,  44,  32,  64,  91,  53,  69,  60,  54,  52,  84,\n",
              "        68,  36,  55,  96,  97,  46,  58,  63,  83,  87,  94,  48,  50,\n",
              "        51,  67,  86,  81,  66,  71,  82,  88,  26,  59,  57,  61,  30,\n",
              "        24,  34,  37,  42,  65,  31,   7,  38,  39,  16,  41,  33,  92,\n",
              "        40,  35,  56,  22,  28,  43,  47, 100,  49,  98,  29,  45,  25,\n",
              "        10,  18,  23,  20,  15, 103,  14,  21,  27,  19,   8,   0,  17,\n",
              "        12,   6,  13,   9,  11])"
            ]
          },
          "metadata": {},
          "execution_count": 215
        }
      ]
    },
    {
      "cell_type": "code",
      "source": [
        "# Create new variable for LTV Range\n",
        "df['LTV_range'] = pd.cut(df.LTV,[0,25,50,1000],3,labels=['Low','Medium','High'])\n",
        "df.LTV_range.unique()"
      ],
      "metadata": {
        "colab": {
          "base_uri": "https://localhost:8080/"
        },
        "id": "zO5m6CqN_RsD",
        "outputId": "b602bd7b-17ec-4991-c2a1-f620a745cc8d"
      },
      "execution_count": 216,
      "outputs": [
        {
          "output_type": "execute_result",
          "data": {
            "text/plain": [
              "['High', 'Medium', 'Low', NaN]\n",
              "Categories (3, object): ['Low' < 'Medium' < 'High']"
            ]
          },
          "metadata": {},
          "execution_count": 216
        }
      ]
    },
    {
      "cell_type": "code",
      "source": [
        "# Find values in OrigInterestRate\n",
        "df.OrigInterestRate.unique()"
      ],
      "metadata": {
        "colab": {
          "base_uri": "https://localhost:8080/"
        },
        "id": "5ZGRk2Np8D5X",
        "outputId": "93c19a52-b495-4495-a8df-b1335be6aaf1"
      },
      "execution_count": 217,
      "outputs": [
        {
          "output_type": "execute_result",
          "data": {
            "text/plain": [
              "array([ 6.75 ,  6.5  ,  6.875,  7.125,  7.   ,  7.25 ,  6.625,  7.75 ,\n",
              "        7.2  ,  7.5  ,  7.625,  7.875,  6.25 ,  8.125,  7.15 ,  7.375,\n",
              "        6.375,  8.75 ,  7.1  ,  7.05 ,  6.95 ,  8.   ,  8.625,  8.375,\n",
              "        8.5  ,  6.125,  6.   ,  5.875,  8.25 ,  8.99 ,  5.625,  9.   ,\n",
              "        5.125,  5.25 ,  9.125,  6.99 ,  5.375,  8.365,  8.875,  6.975,\n",
              "        7.3  ,  7.313,  9.625,  9.25 ,  5.75 ,  7.85 ,  8.695,  4.875,\n",
              "        7.775,  7.29 ,  7.405,  9.5  ,  9.375,  9.75 ,  7.13 ,  5.99 ,\n",
              "        6.999,  7.055,  7.09 ,  6.785,  7.08 ,  7.025,  7.7  ,  7.58 ,\n",
              "       10.5  ,  7.55 ,  7.445,  9.875,  6.85 ,  6.925,  6.9  ,  8.37 ,\n",
              "        7.095,  7.19 ,  7.456,  7.675,  9.675,  7.475,  7.22 ,  7.17 ,\n",
              "        8.7  ,  7.301,  8.9  , 10.   ,  5.5  ,  6.62 ,  7.325, 10.375,\n",
              "        7.8  ,  7.4  , 10.85 ,  7.185,  7.245, 11.5  ,  6.94 ,  6.87 ,\n",
              "        7.65 ,  7.312,  7.28 ,  7.39 ,  7.07 ,  7.43 ,  7.48 ,  6.88 ,\n",
              "        8.45 ,  6.895,  5.   ,  6.3  ,  7.49 ,  6.8  ,  6.63 ,  8.05 ,\n",
              "        7.275,  7.175,  7.225,  7.075,  8.8  ,  7.33 ,  9.95 ,  7.35 ,\n",
              "        7.23 ,  7.91 ,  7.575,  7.425,  7.03 ,  7.31 , 10.625,  7.14 ,\n",
              "        7.12 ,  7.24 ,  7.013,  6.4  ,  6.49 ,  6.55 ,  6.97 ,  7.355,\n",
              "        7.878,  8.27 ,  7.38 ,  6.7  ,  7.45 ,  7.105,  9.35 , 10.75 ,\n",
              "        7.365,  6.871,  5.96 ,  8.3  ,  7.36 ,  9.975,  7.32 , 11.125,\n",
              "        6.1  ,  6.883,  7.95 ,  6.65 ,  7.6  ,  7.54 , 11.1  ,  6.955,\n",
              "        9.99 ,  7.023,  5.89 ,  6.35 ,  8.32 ,  8.315,  7.62 ,  7.188,\n",
              "        6.6  ,  7.26 ,  8.14 ,  7.072,  7.106,  7.066,  6.225,  7.016,\n",
              "        7.255,  6.715,  6.545,  7.056,  6.45 ,  6.69 ,  8.1  ,  8.485,\n",
              "        6.825,  7.06 ,  6.2  ,  7.085,  7.495,  7.158,  6.33 ,  8.13 ,\n",
              "        8.18 ,  7.66 ,  6.602,  7.293,  6.995,  7.371,  6.98 ,  8.06 ,\n",
              "        6.92 ,  4.75 ,  6.685,  6.51 ,  6.813,  7.165,  7.04 ,  8.255,\n",
              "        7.825,  7.624,  7.195,  7.265,  6.935,  6.965,  4.   ,  6.948,\n",
              "        7.64 ,  7.02 ,  6.74 ,  6.96 ,  6.957,  7.063,  7.415,  7.21 ,\n",
              "        6.15 ,  6.79 ,  7.399,  7.059,  7.305,  7.395,  7.93 ,  7.99 ,\n",
              "        7.154,  6.09 ,  5.8  ])"
            ]
          },
          "metadata": {},
          "execution_count": 217
        }
      ]
    },
    {
      "cell_type": "code",
      "source": [
        "# Find values in OrigLoanTerm\n",
        "df.OrigLoanTerm.unique()"
      ],
      "metadata": {
        "colab": {
          "base_uri": "https://localhost:8080/"
        },
        "id": "F6vrfoD_8Ls0",
        "outputId": "80cee28d-679d-40e2-e179-683041c5a4a8"
      },
      "execution_count": 218,
      "outputs": [
        {
          "output_type": "execute_result",
          "data": {
            "text/plain": [
              "array([360, 345, 306, 335, 322, 327, 358, 355, 356, 354, 346, 344, 348,\n",
              "       313, 316, 353, 319, 332, 336, 338, 312, 328, 351, 333, 359, 331,\n",
              "       337, 334, 357, 330, 350, 341, 343, 325, 326, 324, 347, 352, 329,\n",
              "       339, 309, 317, 349, 342, 304, 310, 340, 301, 305, 315, 323, 321,\n",
              "       320, 302, 314, 318, 308, 303, 307, 361, 311])"
            ]
          },
          "metadata": {},
          "execution_count": 218
        }
      ]
    },
    {
      "cell_type": "code",
      "source": [
        "# Find values in EverDelinquent\n",
        "df.EverDelinquent.unique()"
      ],
      "metadata": {
        "colab": {
          "base_uri": "https://localhost:8080/"
        },
        "id": "gi6Fw4Sd8NHn",
        "outputId": "8820bf36-f893-45be-8f69-77fb7421c71b"
      },
      "execution_count": 219,
      "outputs": [
        {
          "output_type": "execute_result",
          "data": {
            "text/plain": [
              "array([0, 1])"
            ]
          },
          "metadata": {},
          "execution_count": 219
        }
      ]
    },
    {
      "cell_type": "code",
      "source": [
        "# Find values in MonthsInRepayment\n",
        "df.MonthsInRepayment.unique()"
      ],
      "metadata": {
        "colab": {
          "base_uri": "https://localhost:8080/"
        },
        "id": "AjiUl2KD8Rg6",
        "outputId": "f2904235-7f13-4f48-8f3e-2ce880ea5e5e"
      },
      "execution_count": 220,
      "outputs": [
        {
          "output_type": "execute_result",
          "data": {
            "text/plain": [
              "array([ 52, 144,  67,  35,  54,  42,  44,  64, 212,  37,  47,  53,  55,\n",
              "        66,  26,  38,  36,  39,  40,  11, 176,  46, 197, 210,  56, 118,\n",
              "        63,  24,  28,  91,  50,  22, 211, 199,  23,  30, 125,  41,  76,\n",
              "        49,  18,  19,  43,  60,  83,  95,  29,  45,  13,   6,  48,  62,\n",
              "        14,  15, 111,  51,  17,  75,  58,  27,  10,  31, 133, 165, 156,\n",
              "        33,  68, 205,  57, 159,  81, 191, 194, 114,  59, 100, 134, 128,\n",
              "        71,   7,  65,  74,  79, 174, 195, 151,  34, 149,  21,  12, 137,\n",
              "       130,  69,  70, 173, 166,  61, 160,  20, 178,   3,  72, 147,   2,\n",
              "        32, 164, 139, 108, 148,  92, 209, 102,  87,  94,  73, 123,  16,\n",
              "       142,   1, 172, 109, 141, 175, 103, 168,   5, 155, 177, 158, 138,\n",
              "        25, 110,  98,  84, 136,   8, 121, 179,   4, 154, 161, 157, 150,\n",
              "        80, 170,  77,   9, 183,  93, 143, 162, 126,  89, 208, 184,  82,\n",
              "       145, 117, 101, 122, 107, 193,  85,  78, 169, 104, 131, 140, 163,\n",
              "       112, 206, 135, 132, 124, 186, 127, 189, 190, 198, 192, 167, 146,\n",
              "       119,  99,  90, 201, 120,  96, 202, 116, 171,  88, 106,  86, 181,\n",
              "       203, 153,  97, 207, 182, 105, 188, 185, 196, 129, 115, 152, 200,\n",
              "       113, 187, 180, 204])"
            ]
          },
          "metadata": {},
          "execution_count": 220
        }
      ]
    },
    {
      "cell_type": "code",
      "source": [
        "df.isnull().sum()    \n",
        "   # After dropping the values"
      ],
      "metadata": {
        "colab": {
          "base_uri": "https://localhost:8080/"
        },
        "id": "wdCPA32rUmM0",
        "outputId": "a4c1db76-7201-432a-c282-b0ac011df89a"
      },
      "execution_count": 221,
      "outputs": [
        {
          "output_type": "execute_result",
          "data": {
            "text/plain": [
              "CreditScore             0\n",
              "FirstTimeHomebuyer      0\n",
              "MIP                     0\n",
              "Units                   0\n",
              "OCLTV                   0\n",
              "DTI                     0\n",
              "OrigUPB                 0\n",
              "LTV                     0\n",
              "OrigInterestRate        0\n",
              "OrigLoanTerm            0\n",
              "EverDelinquent          0\n",
              "MonthsDelinquent        0\n",
              "MonthsInRepayment       0\n",
              "CreditRange           526\n",
              "LTV_range               3\n",
              "dtype: int64"
            ]
          },
          "metadata": {},
          "execution_count": 221
        }
      ]
    },
    {
      "cell_type": "code",
      "source": [
        "df=df.dropna()"
      ],
      "metadata": {
        "id": "fjDc_2Ri8c8Q"
      },
      "execution_count": 222,
      "outputs": []
    },
    {
      "cell_type": "code",
      "source": [
        "df.shape"
      ],
      "metadata": {
        "colab": {
          "base_uri": "https://localhost:8080/"
        },
        "id": "yV6HD6-LxbUF",
        "outputId": "e219d34c-437d-44e2-dc7b-2d34204de52d"
      },
      "execution_count": 223,
      "outputs": [
        {
          "output_type": "execute_result",
          "data": {
            "text/plain": [
              "(212905, 15)"
            ]
          },
          "metadata": {},
          "execution_count": 223
        }
      ]
    },
    {
      "cell_type": "markdown",
      "source": [
        "#### Creating new features in dataset"
      ],
      "metadata": {
        "id": "C6fsvErs9kkh"
      }
    },
    {
      "cell_type": "code",
      "source": [
        "# Create new variable Repay range\n",
        "df['Repay_range'] = pd.cut(df.MonthsInRepayment,[0,48,96,144,192,240],5,\n",
        "                           labels=['0-4yrs','4-8yrs','8-12yrs', '12-16yrs', '16-20yrs'])\n",
        "print('Repay_range values:', df.Repay_range.unique())\n",
        "df['Repay_range'].value_counts()"
      ],
      "metadata": {
        "colab": {
          "base_uri": "https://localhost:8080/"
        },
        "id": "OdvTO8pw9tCf",
        "outputId": "c58148a8-f87b-415b-8a73-a187453d320f"
      },
      "execution_count": 224,
      "outputs": [
        {
          "output_type": "stream",
          "name": "stdout",
          "text": [
            "Repay_range values: ['4-8yrs', '8-12yrs', '0-4yrs', '16-20yrs', '12-16yrs']\n",
            "Categories (5, object): ['0-4yrs' < '4-8yrs' < '8-12yrs' < '12-16yrs' < '16-20yrs']\n"
          ]
        },
        {
          "output_type": "execute_result",
          "data": {
            "text/plain": [
              "0-4yrs      108653\n",
              "4-8yrs       73488\n",
              "8-12yrs      13885\n",
              "12-16yrs      8728\n",
              "16-20yrs      8151\n",
              "Name: Repay_range, dtype: int64"
            ]
          },
          "metadata": {},
          "execution_count": 224
        }
      ]
    },
    {
      "cell_type": "markdown",
      "source": [
        " #### **Renaming the columns**"
      ],
      "metadata": {
        "id": "2DE26SkpGZFM"
      }
    },
    {
      "cell_type": "code",
      "source": [
        "df = df.rename(columns={\"CreditScore\": \"CS\", \"FirstTimeHomebuyer\": \"IsFirstTime\"}) \n",
        "df.head(5)"
      ],
      "metadata": {
        "colab": {
          "base_uri": "https://localhost:8080/",
          "height": 270
        },
        "id": "fqtnhThsGhy_",
        "outputId": "4b16572c-35cb-4a0d-bd6a-325bf7f23ff0"
      },
      "execution_count": 231,
      "outputs": [
        {
          "output_type": "execute_result",
          "data": {
            "text/html": [
              "\n",
              "  <div id=\"df-af550f9c-9a5c-4658-885a-01a420a514eb\">\n",
              "    <div class=\"colab-df-container\">\n",
              "      <div>\n",
              "<style scoped>\n",
              "    .dataframe tbody tr th:only-of-type {\n",
              "        vertical-align: middle;\n",
              "    }\n",
              "\n",
              "    .dataframe tbody tr th {\n",
              "        vertical-align: top;\n",
              "    }\n",
              "\n",
              "    .dataframe thead th {\n",
              "        text-align: right;\n",
              "    }\n",
              "</style>\n",
              "<table border=\"1\" class=\"dataframe\">\n",
              "  <thead>\n",
              "    <tr style=\"text-align: right;\">\n",
              "      <th></th>\n",
              "      <th>CS</th>\n",
              "      <th>IsFirstTime</th>\n",
              "      <th>MIP</th>\n",
              "      <th>Units</th>\n",
              "      <th>OCLTV</th>\n",
              "      <th>DTI</th>\n",
              "      <th>OrigUPB</th>\n",
              "      <th>LTV</th>\n",
              "      <th>OrigInterestRate</th>\n",
              "      <th>OrigLoanTerm</th>\n",
              "      <th>EverDelinquent</th>\n",
              "      <th>MonthsDelinquent</th>\n",
              "      <th>MonthsInRepayment</th>\n",
              "      <th>CreditRange</th>\n",
              "      <th>LTV_range</th>\n",
              "      <th>Repay_range</th>\n",
              "    </tr>\n",
              "  </thead>\n",
              "  <tbody>\n",
              "    <tr>\n",
              "      <th>0</th>\n",
              "      <td>850</td>\n",
              "      <td>0</td>\n",
              "      <td>25</td>\n",
              "      <td>1</td>\n",
              "      <td>89</td>\n",
              "      <td>27</td>\n",
              "      <td>117000</td>\n",
              "      <td>89</td>\n",
              "      <td>6.750</td>\n",
              "      <td>360</td>\n",
              "      <td>0</td>\n",
              "      <td>0</td>\n",
              "      <td>52</td>\n",
              "      <td>4</td>\n",
              "      <td>High</td>\n",
              "      <td>4-8yrs</td>\n",
              "    </tr>\n",
              "    <tr>\n",
              "      <th>1</th>\n",
              "      <td>850</td>\n",
              "      <td>0</td>\n",
              "      <td>0</td>\n",
              "      <td>1</td>\n",
              "      <td>73</td>\n",
              "      <td>17</td>\n",
              "      <td>109000</td>\n",
              "      <td>73</td>\n",
              "      <td>6.500</td>\n",
              "      <td>360</td>\n",
              "      <td>0</td>\n",
              "      <td>0</td>\n",
              "      <td>144</td>\n",
              "      <td>4</td>\n",
              "      <td>High</td>\n",
              "      <td>8-12yrs</td>\n",
              "    </tr>\n",
              "    <tr>\n",
              "      <th>2</th>\n",
              "      <td>850</td>\n",
              "      <td>0</td>\n",
              "      <td>0</td>\n",
              "      <td>1</td>\n",
              "      <td>75</td>\n",
              "      <td>16</td>\n",
              "      <td>88000</td>\n",
              "      <td>75</td>\n",
              "      <td>6.875</td>\n",
              "      <td>360</td>\n",
              "      <td>0</td>\n",
              "      <td>0</td>\n",
              "      <td>67</td>\n",
              "      <td>4</td>\n",
              "      <td>High</td>\n",
              "      <td>4-8yrs</td>\n",
              "    </tr>\n",
              "    <tr>\n",
              "      <th>3</th>\n",
              "      <td>850</td>\n",
              "      <td>0</td>\n",
              "      <td>0</td>\n",
              "      <td>1</td>\n",
              "      <td>76</td>\n",
              "      <td>14</td>\n",
              "      <td>160000</td>\n",
              "      <td>76</td>\n",
              "      <td>6.875</td>\n",
              "      <td>360</td>\n",
              "      <td>0</td>\n",
              "      <td>0</td>\n",
              "      <td>35</td>\n",
              "      <td>4</td>\n",
              "      <td>High</td>\n",
              "      <td>0-4yrs</td>\n",
              "    </tr>\n",
              "    <tr>\n",
              "      <th>4</th>\n",
              "      <td>850</td>\n",
              "      <td>0</td>\n",
              "      <td>0</td>\n",
              "      <td>1</td>\n",
              "      <td>78</td>\n",
              "      <td>18</td>\n",
              "      <td>109000</td>\n",
              "      <td>78</td>\n",
              "      <td>7.125</td>\n",
              "      <td>360</td>\n",
              "      <td>0</td>\n",
              "      <td>0</td>\n",
              "      <td>54</td>\n",
              "      <td>4</td>\n",
              "      <td>High</td>\n",
              "      <td>4-8yrs</td>\n",
              "    </tr>\n",
              "  </tbody>\n",
              "</table>\n",
              "</div>\n",
              "      <button class=\"colab-df-convert\" onclick=\"convertToInteractive('df-af550f9c-9a5c-4658-885a-01a420a514eb')\"\n",
              "              title=\"Convert this dataframe to an interactive table.\"\n",
              "              style=\"display:none;\">\n",
              "        \n",
              "  <svg xmlns=\"http://www.w3.org/2000/svg\" height=\"24px\"viewBox=\"0 0 24 24\"\n",
              "       width=\"24px\">\n",
              "    <path d=\"M0 0h24v24H0V0z\" fill=\"none\"/>\n",
              "    <path d=\"M18.56 5.44l.94 2.06.94-2.06 2.06-.94-2.06-.94-.94-2.06-.94 2.06-2.06.94zm-11 1L8.5 8.5l.94-2.06 2.06-.94-2.06-.94L8.5 2.5l-.94 2.06-2.06.94zm10 10l.94 2.06.94-2.06 2.06-.94-2.06-.94-.94-2.06-.94 2.06-2.06.94z\"/><path d=\"M17.41 7.96l-1.37-1.37c-.4-.4-.92-.59-1.43-.59-.52 0-1.04.2-1.43.59L10.3 9.45l-7.72 7.72c-.78.78-.78 2.05 0 2.83L4 21.41c.39.39.9.59 1.41.59.51 0 1.02-.2 1.41-.59l7.78-7.78 2.81-2.81c.8-.78.8-2.07 0-2.86zM5.41 20L4 18.59l7.72-7.72 1.47 1.35L5.41 20z\"/>\n",
              "  </svg>\n",
              "      </button>\n",
              "      \n",
              "  <style>\n",
              "    .colab-df-container {\n",
              "      display:flex;\n",
              "      flex-wrap:wrap;\n",
              "      gap: 12px;\n",
              "    }\n",
              "\n",
              "    .colab-df-convert {\n",
              "      background-color: #E8F0FE;\n",
              "      border: none;\n",
              "      border-radius: 50%;\n",
              "      cursor: pointer;\n",
              "      display: none;\n",
              "      fill: #1967D2;\n",
              "      height: 32px;\n",
              "      padding: 0 0 0 0;\n",
              "      width: 32px;\n",
              "    }\n",
              "\n",
              "    .colab-df-convert:hover {\n",
              "      background-color: #E2EBFA;\n",
              "      box-shadow: 0px 1px 2px rgba(60, 64, 67, 0.3), 0px 1px 3px 1px rgba(60, 64, 67, 0.15);\n",
              "      fill: #174EA6;\n",
              "    }\n",
              "\n",
              "    [theme=dark] .colab-df-convert {\n",
              "      background-color: #3B4455;\n",
              "      fill: #D2E3FC;\n",
              "    }\n",
              "\n",
              "    [theme=dark] .colab-df-convert:hover {\n",
              "      background-color: #434B5C;\n",
              "      box-shadow: 0px 1px 3px 1px rgba(0, 0, 0, 0.15);\n",
              "      filter: drop-shadow(0px 1px 2px rgba(0, 0, 0, 0.3));\n",
              "      fill: #FFFFFF;\n",
              "    }\n",
              "  </style>\n",
              "\n",
              "      <script>\n",
              "        const buttonEl =\n",
              "          document.querySelector('#df-af550f9c-9a5c-4658-885a-01a420a514eb button.colab-df-convert');\n",
              "        buttonEl.style.display =\n",
              "          google.colab.kernel.accessAllowed ? 'block' : 'none';\n",
              "\n",
              "        async function convertToInteractive(key) {\n",
              "          const element = document.querySelector('#df-af550f9c-9a5c-4658-885a-01a420a514eb');\n",
              "          const dataTable =\n",
              "            await google.colab.kernel.invokeFunction('convertToInteractive',\n",
              "                                                     [key], {});\n",
              "          if (!dataTable) return;\n",
              "\n",
              "          const docLinkHtml = 'Like what you see? Visit the ' +\n",
              "            '<a target=\"_blank\" href=https://colab.research.google.com/notebooks/data_table.ipynb>data table notebook</a>'\n",
              "            + ' to learn more about interactive tables.';\n",
              "          element.innerHTML = '';\n",
              "          dataTable['output_type'] = 'display_data';\n",
              "          await google.colab.output.renderOutput(dataTable, element);\n",
              "          const docLink = document.createElement('div');\n",
              "          docLink.innerHTML = docLinkHtml;\n",
              "          element.appendChild(docLink);\n",
              "        }\n",
              "      </script>\n",
              "    </div>\n",
              "  </div>\n",
              "  "
            ],
            "text/plain": [
              "    CS  IsFirstTime  MIP  ...  CreditRange  LTV_range  Repay_range\n",
              "0  850            0   25  ...            4       High       4-8yrs\n",
              "1  850            0    0  ...            4       High      8-12yrs\n",
              "2  850            0    0  ...            4       High       4-8yrs\n",
              "3  850            0    0  ...            4       High       0-4yrs\n",
              "4  850            0    0  ...            4       High       4-8yrs\n",
              "\n",
              "[5 rows x 16 columns]"
            ]
          },
          "metadata": {},
          "execution_count": 231
        }
      ]
    },
    {
      "cell_type": "markdown",
      "source": [
        "#### Final check of our dataframe before moving on.\n"
      ],
      "metadata": {
        "id": "ahNw7gjl-YI9"
      }
    },
    {
      "cell_type": "code",
      "source": [
        "df.shape\n",
        "\n"
      ],
      "metadata": {
        "colab": {
          "base_uri": "https://localhost:8080/"
        },
        "id": "yANSlQWh-dlk",
        "outputId": "eac89120-26c1-4218-ed83-f62ad40363a1"
      },
      "execution_count": 232,
      "outputs": [
        {
          "output_type": "execute_result",
          "data": {
            "text/plain": [
              "(212905, 16)"
            ]
          },
          "metadata": {},
          "execution_count": 232
        }
      ]
    },
    {
      "cell_type": "code",
      "source": [
        "df.isnull().values.any()"
      ],
      "metadata": {
        "colab": {
          "base_uri": "https://localhost:8080/"
        },
        "id": "4fiRSqR7-uAW",
        "outputId": "84649143-57bd-42a7-bce7-a8cf6b23822a"
      },
      "execution_count": 233,
      "outputs": [
        {
          "output_type": "execute_result",
          "data": {
            "text/plain": [
              "False"
            ]
          },
          "metadata": {},
          "execution_count": 233
        }
      ]
    },
    {
      "cell_type": "markdown",
      "source": [
        "#### Grouping Data"
      ],
      "metadata": {
        "id": "Z5egf9km4PwG"
      }
    },
    {
      "cell_type": "code",
      "source": [
        "df_grouped = df.groupby(by=['CreditRange'])\n",
        "df_grouped = df.groupby(by=['CreditRange','LTV_range'])\n",
        "df_grouped = df.groupby(by=['Repay_range'])\n",
        "df_grouped = df.groupby(by=['CreditRange','IsFirstTime','LTV_range','Repay_range'])\n",
        "df_grouped.describe()"
      ],
      "metadata": {
        "colab": {
          "base_uri": "https://localhost:8080/",
          "height": 550
        },
        "id": "KU3pF0TN4iwn",
        "outputId": "e025d79b-39bb-4b31-e545-6997d116b64e"
      },
      "execution_count": 234,
      "outputs": [
        {
          "output_type": "execute_result",
          "data": {
            "text/html": [
              "\n",
              "  <div id=\"df-31eae2c9-e561-4d32-ba86-ae90dfe50632\">\n",
              "    <div class=\"colab-df-container\">\n",
              "      <div>\n",
              "<style scoped>\n",
              "    .dataframe tbody tr th:only-of-type {\n",
              "        vertical-align: middle;\n",
              "    }\n",
              "\n",
              "    .dataframe tbody tr th {\n",
              "        vertical-align: top;\n",
              "    }\n",
              "\n",
              "    .dataframe thead tr th {\n",
              "        text-align: left;\n",
              "    }\n",
              "\n",
              "    .dataframe thead tr:last-of-type th {\n",
              "        text-align: right;\n",
              "    }\n",
              "</style>\n",
              "<table border=\"1\" class=\"dataframe\">\n",
              "  <thead>\n",
              "    <tr>\n",
              "      <th></th>\n",
              "      <th></th>\n",
              "      <th></th>\n",
              "      <th></th>\n",
              "      <th colspan=\"8\" halign=\"left\">CS</th>\n",
              "      <th colspan=\"8\" halign=\"left\">MIP</th>\n",
              "      <th colspan=\"8\" halign=\"left\">Units</th>\n",
              "      <th colspan=\"8\" halign=\"left\">OCLTV</th>\n",
              "      <th colspan=\"8\" halign=\"left\">DTI</th>\n",
              "      <th>...</th>\n",
              "      <th colspan=\"8\" halign=\"left\">OrigInterestRate</th>\n",
              "      <th colspan=\"8\" halign=\"left\">OrigLoanTerm</th>\n",
              "      <th colspan=\"8\" halign=\"left\">EverDelinquent</th>\n",
              "      <th colspan=\"8\" halign=\"left\">MonthsDelinquent</th>\n",
              "      <th colspan=\"8\" halign=\"left\">MonthsInRepayment</th>\n",
              "    </tr>\n",
              "    <tr>\n",
              "      <th></th>\n",
              "      <th></th>\n",
              "      <th></th>\n",
              "      <th></th>\n",
              "      <th>count</th>\n",
              "      <th>mean</th>\n",
              "      <th>std</th>\n",
              "      <th>min</th>\n",
              "      <th>25%</th>\n",
              "      <th>50%</th>\n",
              "      <th>75%</th>\n",
              "      <th>max</th>\n",
              "      <th>count</th>\n",
              "      <th>mean</th>\n",
              "      <th>std</th>\n",
              "      <th>min</th>\n",
              "      <th>25%</th>\n",
              "      <th>50%</th>\n",
              "      <th>75%</th>\n",
              "      <th>max</th>\n",
              "      <th>count</th>\n",
              "      <th>mean</th>\n",
              "      <th>std</th>\n",
              "      <th>min</th>\n",
              "      <th>25%</th>\n",
              "      <th>50%</th>\n",
              "      <th>75%</th>\n",
              "      <th>max</th>\n",
              "      <th>count</th>\n",
              "      <th>mean</th>\n",
              "      <th>std</th>\n",
              "      <th>min</th>\n",
              "      <th>25%</th>\n",
              "      <th>50%</th>\n",
              "      <th>75%</th>\n",
              "      <th>max</th>\n",
              "      <th>count</th>\n",
              "      <th>mean</th>\n",
              "      <th>std</th>\n",
              "      <th>min</th>\n",
              "      <th>25%</th>\n",
              "      <th>50%</th>\n",
              "      <th>75%</th>\n",
              "      <th>max</th>\n",
              "      <th>...</th>\n",
              "      <th>count</th>\n",
              "      <th>mean</th>\n",
              "      <th>std</th>\n",
              "      <th>min</th>\n",
              "      <th>25%</th>\n",
              "      <th>50%</th>\n",
              "      <th>75%</th>\n",
              "      <th>max</th>\n",
              "      <th>count</th>\n",
              "      <th>mean</th>\n",
              "      <th>std</th>\n",
              "      <th>min</th>\n",
              "      <th>25%</th>\n",
              "      <th>50%</th>\n",
              "      <th>75%</th>\n",
              "      <th>max</th>\n",
              "      <th>count</th>\n",
              "      <th>mean</th>\n",
              "      <th>std</th>\n",
              "      <th>min</th>\n",
              "      <th>25%</th>\n",
              "      <th>50%</th>\n",
              "      <th>75%</th>\n",
              "      <th>max</th>\n",
              "      <th>count</th>\n",
              "      <th>mean</th>\n",
              "      <th>std</th>\n",
              "      <th>min</th>\n",
              "      <th>25%</th>\n",
              "      <th>50%</th>\n",
              "      <th>75%</th>\n",
              "      <th>max</th>\n",
              "      <th>count</th>\n",
              "      <th>mean</th>\n",
              "      <th>std</th>\n",
              "      <th>min</th>\n",
              "      <th>25%</th>\n",
              "      <th>50%</th>\n",
              "      <th>75%</th>\n",
              "      <th>max</th>\n",
              "    </tr>\n",
              "    <tr>\n",
              "      <th>CreditRange</th>\n",
              "      <th>IsFirstTime</th>\n",
              "      <th>LTV_range</th>\n",
              "      <th>Repay_range</th>\n",
              "      <th></th>\n",
              "      <th></th>\n",
              "      <th></th>\n",
              "      <th></th>\n",
              "      <th></th>\n",
              "      <th></th>\n",
              "      <th></th>\n",
              "      <th></th>\n",
              "      <th></th>\n",
              "      <th></th>\n",
              "      <th></th>\n",
              "      <th></th>\n",
              "      <th></th>\n",
              "      <th></th>\n",
              "      <th></th>\n",
              "      <th></th>\n",
              "      <th></th>\n",
              "      <th></th>\n",
              "      <th></th>\n",
              "      <th></th>\n",
              "      <th></th>\n",
              "      <th></th>\n",
              "      <th></th>\n",
              "      <th></th>\n",
              "      <th></th>\n",
              "      <th></th>\n",
              "      <th></th>\n",
              "      <th></th>\n",
              "      <th></th>\n",
              "      <th></th>\n",
              "      <th></th>\n",
              "      <th></th>\n",
              "      <th></th>\n",
              "      <th></th>\n",
              "      <th></th>\n",
              "      <th></th>\n",
              "      <th></th>\n",
              "      <th></th>\n",
              "      <th></th>\n",
              "      <th></th>\n",
              "      <th></th>\n",
              "      <th></th>\n",
              "      <th></th>\n",
              "      <th></th>\n",
              "      <th></th>\n",
              "      <th></th>\n",
              "      <th></th>\n",
              "      <th></th>\n",
              "      <th></th>\n",
              "      <th></th>\n",
              "      <th></th>\n",
              "      <th></th>\n",
              "      <th></th>\n",
              "      <th></th>\n",
              "      <th></th>\n",
              "      <th></th>\n",
              "      <th></th>\n",
              "      <th></th>\n",
              "      <th></th>\n",
              "      <th></th>\n",
              "      <th></th>\n",
              "      <th></th>\n",
              "      <th></th>\n",
              "      <th></th>\n",
              "      <th></th>\n",
              "      <th></th>\n",
              "      <th></th>\n",
              "      <th></th>\n",
              "      <th></th>\n",
              "      <th></th>\n",
              "      <th></th>\n",
              "      <th></th>\n",
              "      <th></th>\n",
              "      <th></th>\n",
              "      <th></th>\n",
              "      <th></th>\n",
              "      <th></th>\n",
              "      <th></th>\n",
              "      <th></th>\n",
              "      <th></th>\n",
              "      <th></th>\n",
              "    </tr>\n",
              "  </thead>\n",
              "  <tbody>\n",
              "    <tr>\n",
              "      <th rowspan=\"5\" valign=\"top\">1</th>\n",
              "      <th rowspan=\"5\" valign=\"top\">0</th>\n",
              "      <th rowspan=\"5\" valign=\"top\">Low</th>\n",
              "      <th>0-4yrs</th>\n",
              "      <td>17.0</td>\n",
              "      <td>627.529412</td>\n",
              "      <td>19.824599</td>\n",
              "      <td>574.0</td>\n",
              "      <td>617.0</td>\n",
              "      <td>630.0</td>\n",
              "      <td>645.0</td>\n",
              "      <td>650.0</td>\n",
              "      <td>17.0</td>\n",
              "      <td>0.000000</td>\n",
              "      <td>0.000000</td>\n",
              "      <td>0.0</td>\n",
              "      <td>0.0</td>\n",
              "      <td>0.0</td>\n",
              "      <td>0.0</td>\n",
              "      <td>0.0</td>\n",
              "      <td>17.0</td>\n",
              "      <td>1.000000</td>\n",
              "      <td>0.000000</td>\n",
              "      <td>1.0</td>\n",
              "      <td>1.0</td>\n",
              "      <td>1.0</td>\n",
              "      <td>1.0</td>\n",
              "      <td>1.0</td>\n",
              "      <td>17.0</td>\n",
              "      <td>20.823529</td>\n",
              "      <td>3.358484</td>\n",
              "      <td>15.0</td>\n",
              "      <td>18.00</td>\n",
              "      <td>20.0</td>\n",
              "      <td>24.00</td>\n",
              "      <td>25.0</td>\n",
              "      <td>17.0</td>\n",
              "      <td>28.588235</td>\n",
              "      <td>11.656859</td>\n",
              "      <td>0.0</td>\n",
              "      <td>23.00</td>\n",
              "      <td>30.0</td>\n",
              "      <td>35.00</td>\n",
              "      <td>45.0</td>\n",
              "      <td>...</td>\n",
              "      <td>17.0</td>\n",
              "      <td>6.926471</td>\n",
              "      <td>0.293347</td>\n",
              "      <td>6.250</td>\n",
              "      <td>6.75000</td>\n",
              "      <td>7.0000</td>\n",
              "      <td>7.12500</td>\n",
              "      <td>7.500</td>\n",
              "      <td>17.0</td>\n",
              "      <td>360.000000</td>\n",
              "      <td>0.000000</td>\n",
              "      <td>360.0</td>\n",
              "      <td>360.0</td>\n",
              "      <td>360.0</td>\n",
              "      <td>360.0</td>\n",
              "      <td>360.0</td>\n",
              "      <td>17.0</td>\n",
              "      <td>0.235294</td>\n",
              "      <td>0.437237</td>\n",
              "      <td>0.0</td>\n",
              "      <td>0.00</td>\n",
              "      <td>0.0</td>\n",
              "      <td>0.00</td>\n",
              "      <td>1.0</td>\n",
              "      <td>17.0</td>\n",
              "      <td>0.647059</td>\n",
              "      <td>1.366619</td>\n",
              "      <td>0.0</td>\n",
              "      <td>0.00</td>\n",
              "      <td>0.0</td>\n",
              "      <td>0.00</td>\n",
              "      <td>4.0</td>\n",
              "      <td>17.0</td>\n",
              "      <td>33.294118</td>\n",
              "      <td>9.700288</td>\n",
              "      <td>12.0</td>\n",
              "      <td>25.0</td>\n",
              "      <td>33.0</td>\n",
              "      <td>41.0</td>\n",
              "      <td>46.0</td>\n",
              "    </tr>\n",
              "    <tr>\n",
              "      <th>4-8yrs</th>\n",
              "      <td>13.0</td>\n",
              "      <td>635.384615</td>\n",
              "      <td>13.859644</td>\n",
              "      <td>599.0</td>\n",
              "      <td>630.0</td>\n",
              "      <td>633.0</td>\n",
              "      <td>647.0</td>\n",
              "      <td>650.0</td>\n",
              "      <td>13.0</td>\n",
              "      <td>0.000000</td>\n",
              "      <td>0.000000</td>\n",
              "      <td>0.0</td>\n",
              "      <td>0.0</td>\n",
              "      <td>0.0</td>\n",
              "      <td>0.0</td>\n",
              "      <td>0.0</td>\n",
              "      <td>13.0</td>\n",
              "      <td>1.000000</td>\n",
              "      <td>0.000000</td>\n",
              "      <td>1.0</td>\n",
              "      <td>1.0</td>\n",
              "      <td>1.0</td>\n",
              "      <td>1.0</td>\n",
              "      <td>1.0</td>\n",
              "      <td>13.0</td>\n",
              "      <td>20.076923</td>\n",
              "      <td>4.443376</td>\n",
              "      <td>10.0</td>\n",
              "      <td>18.00</td>\n",
              "      <td>22.0</td>\n",
              "      <td>23.00</td>\n",
              "      <td>25.0</td>\n",
              "      <td>13.0</td>\n",
              "      <td>32.923077</td>\n",
              "      <td>15.834885</td>\n",
              "      <td>6.0</td>\n",
              "      <td>21.00</td>\n",
              "      <td>32.0</td>\n",
              "      <td>38.00</td>\n",
              "      <td>64.0</td>\n",
              "      <td>...</td>\n",
              "      <td>13.0</td>\n",
              "      <td>7.353846</td>\n",
              "      <td>1.117141</td>\n",
              "      <td>6.625</td>\n",
              "      <td>6.75000</td>\n",
              "      <td>6.8750</td>\n",
              "      <td>7.50000</td>\n",
              "      <td>10.850</td>\n",
              "      <td>13.0</td>\n",
              "      <td>360.000000</td>\n",
              "      <td>0.000000</td>\n",
              "      <td>360.0</td>\n",
              "      <td>360.0</td>\n",
              "      <td>360.0</td>\n",
              "      <td>360.0</td>\n",
              "      <td>360.0</td>\n",
              "      <td>13.0</td>\n",
              "      <td>0.230769</td>\n",
              "      <td>0.438529</td>\n",
              "      <td>0.0</td>\n",
              "      <td>0.00</td>\n",
              "      <td>0.0</td>\n",
              "      <td>0.00</td>\n",
              "      <td>1.0</td>\n",
              "      <td>13.0</td>\n",
              "      <td>1.076923</td>\n",
              "      <td>3.040327</td>\n",
              "      <td>0.0</td>\n",
              "      <td>0.00</td>\n",
              "      <td>0.0</td>\n",
              "      <td>0.00</td>\n",
              "      <td>11.0</td>\n",
              "      <td>13.0</td>\n",
              "      <td>60.076923</td>\n",
              "      <td>13.683698</td>\n",
              "      <td>49.0</td>\n",
              "      <td>51.0</td>\n",
              "      <td>54.0</td>\n",
              "      <td>65.0</td>\n",
              "      <td>93.0</td>\n",
              "    </tr>\n",
              "    <tr>\n",
              "      <th>8-12yrs</th>\n",
              "      <td>3.0</td>\n",
              "      <td>637.333333</td>\n",
              "      <td>7.094599</td>\n",
              "      <td>631.0</td>\n",
              "      <td>633.5</td>\n",
              "      <td>636.0</td>\n",
              "      <td>640.5</td>\n",
              "      <td>645.0</td>\n",
              "      <td>3.0</td>\n",
              "      <td>0.000000</td>\n",
              "      <td>0.000000</td>\n",
              "      <td>0.0</td>\n",
              "      <td>0.0</td>\n",
              "      <td>0.0</td>\n",
              "      <td>0.0</td>\n",
              "      <td>0.0</td>\n",
              "      <td>3.0</td>\n",
              "      <td>1.000000</td>\n",
              "      <td>0.000000</td>\n",
              "      <td>1.0</td>\n",
              "      <td>1.0</td>\n",
              "      <td>1.0</td>\n",
              "      <td>1.0</td>\n",
              "      <td>1.0</td>\n",
              "      <td>3.0</td>\n",
              "      <td>18.000000</td>\n",
              "      <td>8.888194</td>\n",
              "      <td>8.0</td>\n",
              "      <td>14.50</td>\n",
              "      <td>21.0</td>\n",
              "      <td>23.00</td>\n",
              "      <td>25.0</td>\n",
              "      <td>3.0</td>\n",
              "      <td>36.666667</td>\n",
              "      <td>2.516611</td>\n",
              "      <td>34.0</td>\n",
              "      <td>35.50</td>\n",
              "      <td>37.0</td>\n",
              "      <td>38.00</td>\n",
              "      <td>39.0</td>\n",
              "      <td>...</td>\n",
              "      <td>3.0</td>\n",
              "      <td>6.916667</td>\n",
              "      <td>0.072169</td>\n",
              "      <td>6.875</td>\n",
              "      <td>6.87500</td>\n",
              "      <td>6.8750</td>\n",
              "      <td>6.93750</td>\n",
              "      <td>7.000</td>\n",
              "      <td>3.0</td>\n",
              "      <td>360.000000</td>\n",
              "      <td>0.000000</td>\n",
              "      <td>360.0</td>\n",
              "      <td>360.0</td>\n",
              "      <td>360.0</td>\n",
              "      <td>360.0</td>\n",
              "      <td>360.0</td>\n",
              "      <td>3.0</td>\n",
              "      <td>0.000000</td>\n",
              "      <td>0.000000</td>\n",
              "      <td>0.0</td>\n",
              "      <td>0.00</td>\n",
              "      <td>0.0</td>\n",
              "      <td>0.00</td>\n",
              "      <td>0.0</td>\n",
              "      <td>3.0</td>\n",
              "      <td>0.000000</td>\n",
              "      <td>0.000000</td>\n",
              "      <td>0.0</td>\n",
              "      <td>0.00</td>\n",
              "      <td>0.0</td>\n",
              "      <td>0.00</td>\n",
              "      <td>0.0</td>\n",
              "      <td>3.0</td>\n",
              "      <td>123.333333</td>\n",
              "      <td>10.115994</td>\n",
              "      <td>117.0</td>\n",
              "      <td>117.5</td>\n",
              "      <td>118.0</td>\n",
              "      <td>126.5</td>\n",
              "      <td>135.0</td>\n",
              "    </tr>\n",
              "    <tr>\n",
              "      <th>12-16yrs</th>\n",
              "      <td>2.0</td>\n",
              "      <td>608.000000</td>\n",
              "      <td>35.355339</td>\n",
              "      <td>583.0</td>\n",
              "      <td>595.5</td>\n",
              "      <td>608.0</td>\n",
              "      <td>620.5</td>\n",
              "      <td>633.0</td>\n",
              "      <td>2.0</td>\n",
              "      <td>0.000000</td>\n",
              "      <td>0.000000</td>\n",
              "      <td>0.0</td>\n",
              "      <td>0.0</td>\n",
              "      <td>0.0</td>\n",
              "      <td>0.0</td>\n",
              "      <td>0.0</td>\n",
              "      <td>2.0</td>\n",
              "      <td>1.000000</td>\n",
              "      <td>0.000000</td>\n",
              "      <td>1.0</td>\n",
              "      <td>1.0</td>\n",
              "      <td>1.0</td>\n",
              "      <td>1.0</td>\n",
              "      <td>1.0</td>\n",
              "      <td>2.0</td>\n",
              "      <td>29.500000</td>\n",
              "      <td>6.363961</td>\n",
              "      <td>25.0</td>\n",
              "      <td>27.25</td>\n",
              "      <td>29.5</td>\n",
              "      <td>31.75</td>\n",
              "      <td>34.0</td>\n",
              "      <td>2.0</td>\n",
              "      <td>58.500000</td>\n",
              "      <td>4.949747</td>\n",
              "      <td>55.0</td>\n",
              "      <td>56.75</td>\n",
              "      <td>58.5</td>\n",
              "      <td>60.25</td>\n",
              "      <td>62.0</td>\n",
              "      <td>...</td>\n",
              "      <td>2.0</td>\n",
              "      <td>6.937500</td>\n",
              "      <td>0.088388</td>\n",
              "      <td>6.875</td>\n",
              "      <td>6.90625</td>\n",
              "      <td>6.9375</td>\n",
              "      <td>6.96875</td>\n",
              "      <td>7.000</td>\n",
              "      <td>2.0</td>\n",
              "      <td>360.000000</td>\n",
              "      <td>0.000000</td>\n",
              "      <td>360.0</td>\n",
              "      <td>360.0</td>\n",
              "      <td>360.0</td>\n",
              "      <td>360.0</td>\n",
              "      <td>360.0</td>\n",
              "      <td>2.0</td>\n",
              "      <td>0.500000</td>\n",
              "      <td>0.707107</td>\n",
              "      <td>0.0</td>\n",
              "      <td>0.25</td>\n",
              "      <td>0.5</td>\n",
              "      <td>0.75</td>\n",
              "      <td>1.0</td>\n",
              "      <td>2.0</td>\n",
              "      <td>0.500000</td>\n",
              "      <td>0.707107</td>\n",
              "      <td>0.0</td>\n",
              "      <td>0.25</td>\n",
              "      <td>0.5</td>\n",
              "      <td>0.75</td>\n",
              "      <td>1.0</td>\n",
              "      <td>2.0</td>\n",
              "      <td>173.000000</td>\n",
              "      <td>22.627417</td>\n",
              "      <td>157.0</td>\n",
              "      <td>165.0</td>\n",
              "      <td>173.0</td>\n",
              "      <td>181.0</td>\n",
              "      <td>189.0</td>\n",
              "    </tr>\n",
              "    <tr>\n",
              "      <th>16-20yrs</th>\n",
              "      <td>1.0</td>\n",
              "      <td>631.000000</td>\n",
              "      <td>NaN</td>\n",
              "      <td>631.0</td>\n",
              "      <td>631.0</td>\n",
              "      <td>631.0</td>\n",
              "      <td>631.0</td>\n",
              "      <td>631.0</td>\n",
              "      <td>1.0</td>\n",
              "      <td>0.000000</td>\n",
              "      <td>NaN</td>\n",
              "      <td>0.0</td>\n",
              "      <td>0.0</td>\n",
              "      <td>0.0</td>\n",
              "      <td>0.0</td>\n",
              "      <td>0.0</td>\n",
              "      <td>1.0</td>\n",
              "      <td>1.000000</td>\n",
              "      <td>NaN</td>\n",
              "      <td>1.0</td>\n",
              "      <td>1.0</td>\n",
              "      <td>1.0</td>\n",
              "      <td>1.0</td>\n",
              "      <td>1.0</td>\n",
              "      <td>1.0</td>\n",
              "      <td>20.000000</td>\n",
              "      <td>NaN</td>\n",
              "      <td>20.0</td>\n",
              "      <td>20.00</td>\n",
              "      <td>20.0</td>\n",
              "      <td>20.00</td>\n",
              "      <td>20.0</td>\n",
              "      <td>1.0</td>\n",
              "      <td>45.000000</td>\n",
              "      <td>NaN</td>\n",
              "      <td>45.0</td>\n",
              "      <td>45.00</td>\n",
              "      <td>45.0</td>\n",
              "      <td>45.00</td>\n",
              "      <td>45.0</td>\n",
              "      <td>...</td>\n",
              "      <td>1.0</td>\n",
              "      <td>8.750000</td>\n",
              "      <td>NaN</td>\n",
              "      <td>8.750</td>\n",
              "      <td>8.75000</td>\n",
              "      <td>8.7500</td>\n",
              "      <td>8.75000</td>\n",
              "      <td>8.750</td>\n",
              "      <td>1.0</td>\n",
              "      <td>360.000000</td>\n",
              "      <td>NaN</td>\n",
              "      <td>360.0</td>\n",
              "      <td>360.0</td>\n",
              "      <td>360.0</td>\n",
              "      <td>360.0</td>\n",
              "      <td>360.0</td>\n",
              "      <td>1.0</td>\n",
              "      <td>1.000000</td>\n",
              "      <td>NaN</td>\n",
              "      <td>1.0</td>\n",
              "      <td>1.00</td>\n",
              "      <td>1.0</td>\n",
              "      <td>1.00</td>\n",
              "      <td>1.0</td>\n",
              "      <td>1.0</td>\n",
              "      <td>93.000000</td>\n",
              "      <td>NaN</td>\n",
              "      <td>93.0</td>\n",
              "      <td>93.00</td>\n",
              "      <td>93.0</td>\n",
              "      <td>93.00</td>\n",
              "      <td>93.0</td>\n",
              "      <td>1.0</td>\n",
              "      <td>193.000000</td>\n",
              "      <td>NaN</td>\n",
              "      <td>193.0</td>\n",
              "      <td>193.0</td>\n",
              "      <td>193.0</td>\n",
              "      <td>193.0</td>\n",
              "      <td>193.0</td>\n",
              "    </tr>\n",
              "    <tr>\n",
              "      <th>...</th>\n",
              "      <th>...</th>\n",
              "      <th>...</th>\n",
              "      <th>...</th>\n",
              "      <td>...</td>\n",
              "      <td>...</td>\n",
              "      <td>...</td>\n",
              "      <td>...</td>\n",
              "      <td>...</td>\n",
              "      <td>...</td>\n",
              "      <td>...</td>\n",
              "      <td>...</td>\n",
              "      <td>...</td>\n",
              "      <td>...</td>\n",
              "      <td>...</td>\n",
              "      <td>...</td>\n",
              "      <td>...</td>\n",
              "      <td>...</td>\n",
              "      <td>...</td>\n",
              "      <td>...</td>\n",
              "      <td>...</td>\n",
              "      <td>...</td>\n",
              "      <td>...</td>\n",
              "      <td>...</td>\n",
              "      <td>...</td>\n",
              "      <td>...</td>\n",
              "      <td>...</td>\n",
              "      <td>...</td>\n",
              "      <td>...</td>\n",
              "      <td>...</td>\n",
              "      <td>...</td>\n",
              "      <td>...</td>\n",
              "      <td>...</td>\n",
              "      <td>...</td>\n",
              "      <td>...</td>\n",
              "      <td>...</td>\n",
              "      <td>...</td>\n",
              "      <td>...</td>\n",
              "      <td>...</td>\n",
              "      <td>...</td>\n",
              "      <td>...</td>\n",
              "      <td>...</td>\n",
              "      <td>...</td>\n",
              "      <td>...</td>\n",
              "      <td>...</td>\n",
              "      <td>...</td>\n",
              "      <td>...</td>\n",
              "      <td>...</td>\n",
              "      <td>...</td>\n",
              "      <td>...</td>\n",
              "      <td>...</td>\n",
              "      <td>...</td>\n",
              "      <td>...</td>\n",
              "      <td>...</td>\n",
              "      <td>...</td>\n",
              "      <td>...</td>\n",
              "      <td>...</td>\n",
              "      <td>...</td>\n",
              "      <td>...</td>\n",
              "      <td>...</td>\n",
              "      <td>...</td>\n",
              "      <td>...</td>\n",
              "      <td>...</td>\n",
              "      <td>...</td>\n",
              "      <td>...</td>\n",
              "      <td>...</td>\n",
              "      <td>...</td>\n",
              "      <td>...</td>\n",
              "      <td>...</td>\n",
              "      <td>...</td>\n",
              "      <td>...</td>\n",
              "      <td>...</td>\n",
              "      <td>...</td>\n",
              "      <td>...</td>\n",
              "      <td>...</td>\n",
              "      <td>...</td>\n",
              "      <td>...</td>\n",
              "      <td>...</td>\n",
              "      <td>...</td>\n",
              "      <td>...</td>\n",
              "      <td>...</td>\n",
              "      <td>...</td>\n",
              "      <td>...</td>\n",
              "      <td>...</td>\n",
              "      <td>...</td>\n",
              "    </tr>\n",
              "    <tr>\n",
              "      <th rowspan=\"5\" valign=\"top\">4</th>\n",
              "      <th rowspan=\"5\" valign=\"top\">1</th>\n",
              "      <th rowspan=\"5\" valign=\"top\">High</th>\n",
              "      <th>0-4yrs</th>\n",
              "      <td>3064.0</td>\n",
              "      <td>771.980418</td>\n",
              "      <td>20.469600</td>\n",
              "      <td>751.0</td>\n",
              "      <td>758.0</td>\n",
              "      <td>767.0</td>\n",
              "      <td>779.0</td>\n",
              "      <td>850.0</td>\n",
              "      <td>3064.0</td>\n",
              "      <td>15.755548</td>\n",
              "      <td>13.836836</td>\n",
              "      <td>0.0</td>\n",
              "      <td>0.0</td>\n",
              "      <td>25.0</td>\n",
              "      <td>30.0</td>\n",
              "      <td>55.0</td>\n",
              "      <td>3064.0</td>\n",
              "      <td>1.022520</td>\n",
              "      <td>0.180186</td>\n",
              "      <td>1.0</td>\n",
              "      <td>1.0</td>\n",
              "      <td>1.0</td>\n",
              "      <td>1.0</td>\n",
              "      <td>4.0</td>\n",
              "      <td>3064.0</td>\n",
              "      <td>86.156005</td>\n",
              "      <td>9.387710</td>\n",
              "      <td>51.0</td>\n",
              "      <td>80.00</td>\n",
              "      <td>90.0</td>\n",
              "      <td>95.00</td>\n",
              "      <td>100.0</td>\n",
              "      <td>3064.0</td>\n",
              "      <td>30.965078</td>\n",
              "      <td>9.936285</td>\n",
              "      <td>0.0</td>\n",
              "      <td>25.00</td>\n",
              "      <td>31.0</td>\n",
              "      <td>37.00</td>\n",
              "      <td>63.0</td>\n",
              "      <td>...</td>\n",
              "      <td>3064.0</td>\n",
              "      <td>6.949950</td>\n",
              "      <td>0.334621</td>\n",
              "      <td>5.000</td>\n",
              "      <td>6.75000</td>\n",
              "      <td>6.8750</td>\n",
              "      <td>7.12500</td>\n",
              "      <td>8.750</td>\n",
              "      <td>3064.0</td>\n",
              "      <td>359.873042</td>\n",
              "      <td>1.806291</td>\n",
              "      <td>301.0</td>\n",
              "      <td>360.0</td>\n",
              "      <td>360.0</td>\n",
              "      <td>360.0</td>\n",
              "      <td>360.0</td>\n",
              "      <td>3064.0</td>\n",
              "      <td>0.057441</td>\n",
              "      <td>0.232722</td>\n",
              "      <td>0.0</td>\n",
              "      <td>0.00</td>\n",
              "      <td>0.0</td>\n",
              "      <td>0.00</td>\n",
              "      <td>1.0</td>\n",
              "      <td>3064.0</td>\n",
              "      <td>0.225849</td>\n",
              "      <td>1.549669</td>\n",
              "      <td>0.0</td>\n",
              "      <td>0.00</td>\n",
              "      <td>0.0</td>\n",
              "      <td>0.00</td>\n",
              "      <td>30.0</td>\n",
              "      <td>3064.0</td>\n",
              "      <td>34.667428</td>\n",
              "      <td>11.558622</td>\n",
              "      <td>1.0</td>\n",
              "      <td>27.0</td>\n",
              "      <td>38.0</td>\n",
              "      <td>44.0</td>\n",
              "      <td>48.0</td>\n",
              "    </tr>\n",
              "    <tr>\n",
              "      <th>4-8yrs</th>\n",
              "      <td>2211.0</td>\n",
              "      <td>773.217096</td>\n",
              "      <td>21.222137</td>\n",
              "      <td>751.0</td>\n",
              "      <td>759.0</td>\n",
              "      <td>768.0</td>\n",
              "      <td>780.0</td>\n",
              "      <td>850.0</td>\n",
              "      <td>2211.0</td>\n",
              "      <td>15.331976</td>\n",
              "      <td>13.818971</td>\n",
              "      <td>0.0</td>\n",
              "      <td>0.0</td>\n",
              "      <td>25.0</td>\n",
              "      <td>30.0</td>\n",
              "      <td>36.0</td>\n",
              "      <td>2211.0</td>\n",
              "      <td>1.023066</td>\n",
              "      <td>0.185228</td>\n",
              "      <td>1.0</td>\n",
              "      <td>1.0</td>\n",
              "      <td>1.0</td>\n",
              "      <td>1.0</td>\n",
              "      <td>4.0</td>\n",
              "      <td>2211.0</td>\n",
              "      <td>85.766621</td>\n",
              "      <td>9.420435</td>\n",
              "      <td>51.0</td>\n",
              "      <td>80.00</td>\n",
              "      <td>90.0</td>\n",
              "      <td>95.00</td>\n",
              "      <td>105.0</td>\n",
              "      <td>2211.0</td>\n",
              "      <td>29.978743</td>\n",
              "      <td>9.797312</td>\n",
              "      <td>0.0</td>\n",
              "      <td>23.00</td>\n",
              "      <td>30.0</td>\n",
              "      <td>36.00</td>\n",
              "      <td>65.0</td>\n",
              "      <td>...</td>\n",
              "      <td>2211.0</td>\n",
              "      <td>6.859199</td>\n",
              "      <td>0.306245</td>\n",
              "      <td>5.375</td>\n",
              "      <td>6.75000</td>\n",
              "      <td>6.8750</td>\n",
              "      <td>7.00000</td>\n",
              "      <td>9.750</td>\n",
              "      <td>2211.0</td>\n",
              "      <td>359.961556</td>\n",
              "      <td>1.228569</td>\n",
              "      <td>305.0</td>\n",
              "      <td>360.0</td>\n",
              "      <td>360.0</td>\n",
              "      <td>360.0</td>\n",
              "      <td>360.0</td>\n",
              "      <td>2211.0</td>\n",
              "      <td>0.108548</td>\n",
              "      <td>0.311142</td>\n",
              "      <td>0.0</td>\n",
              "      <td>0.00</td>\n",
              "      <td>0.0</td>\n",
              "      <td>0.00</td>\n",
              "      <td>1.0</td>\n",
              "      <td>2211.0</td>\n",
              "      <td>0.445952</td>\n",
              "      <td>2.808543</td>\n",
              "      <td>0.0</td>\n",
              "      <td>0.00</td>\n",
              "      <td>0.0</td>\n",
              "      <td>0.00</td>\n",
              "      <td>53.0</td>\n",
              "      <td>2211.0</td>\n",
              "      <td>59.054726</td>\n",
              "      <td>11.075070</td>\n",
              "      <td>49.0</td>\n",
              "      <td>51.0</td>\n",
              "      <td>54.0</td>\n",
              "      <td>63.0</td>\n",
              "      <td>96.0</td>\n",
              "    </tr>\n",
              "    <tr>\n",
              "      <th>8-12yrs</th>\n",
              "      <td>476.0</td>\n",
              "      <td>775.466387</td>\n",
              "      <td>19.709493</td>\n",
              "      <td>751.0</td>\n",
              "      <td>761.0</td>\n",
              "      <td>772.0</td>\n",
              "      <td>786.0</td>\n",
              "      <td>850.0</td>\n",
              "      <td>476.0</td>\n",
              "      <td>10.836134</td>\n",
              "      <td>13.703263</td>\n",
              "      <td>0.0</td>\n",
              "      <td>0.0</td>\n",
              "      <td>0.0</td>\n",
              "      <td>25.0</td>\n",
              "      <td>36.0</td>\n",
              "      <td>476.0</td>\n",
              "      <td>1.016807</td>\n",
              "      <td>0.144117</td>\n",
              "      <td>1.0</td>\n",
              "      <td>1.0</td>\n",
              "      <td>1.0</td>\n",
              "      <td>1.0</td>\n",
              "      <td>3.0</td>\n",
              "      <td>476.0</td>\n",
              "      <td>82.390756</td>\n",
              "      <td>10.627008</td>\n",
              "      <td>51.0</td>\n",
              "      <td>80.00</td>\n",
              "      <td>80.0</td>\n",
              "      <td>91.00</td>\n",
              "      <td>105.0</td>\n",
              "      <td>476.0</td>\n",
              "      <td>28.997899</td>\n",
              "      <td>9.703716</td>\n",
              "      <td>0.0</td>\n",
              "      <td>22.00</td>\n",
              "      <td>28.0</td>\n",
              "      <td>35.00</td>\n",
              "      <td>64.0</td>\n",
              "      <td>...</td>\n",
              "      <td>476.0</td>\n",
              "      <td>6.796113</td>\n",
              "      <td>0.355044</td>\n",
              "      <td>5.000</td>\n",
              "      <td>6.62500</td>\n",
              "      <td>6.8750</td>\n",
              "      <td>7.00000</td>\n",
              "      <td>8.375</td>\n",
              "      <td>476.0</td>\n",
              "      <td>359.894958</td>\n",
              "      <td>2.291746</td>\n",
              "      <td>310.0</td>\n",
              "      <td>360.0</td>\n",
              "      <td>360.0</td>\n",
              "      <td>360.0</td>\n",
              "      <td>360.0</td>\n",
              "      <td>476.0</td>\n",
              "      <td>0.161765</td>\n",
              "      <td>0.368622</td>\n",
              "      <td>0.0</td>\n",
              "      <td>0.00</td>\n",
              "      <td>0.0</td>\n",
              "      <td>0.00</td>\n",
              "      <td>1.0</td>\n",
              "      <td>476.0</td>\n",
              "      <td>0.964286</td>\n",
              "      <td>6.145669</td>\n",
              "      <td>0.0</td>\n",
              "      <td>0.00</td>\n",
              "      <td>0.0</td>\n",
              "      <td>0.00</td>\n",
              "      <td>91.0</td>\n",
              "      <td>476.0</td>\n",
              "      <td>120.754202</td>\n",
              "      <td>13.583755</td>\n",
              "      <td>97.0</td>\n",
              "      <td>109.0</td>\n",
              "      <td>120.0</td>\n",
              "      <td>132.0</td>\n",
              "      <td>144.0</td>\n",
              "    </tr>\n",
              "    <tr>\n",
              "      <th>12-16yrs</th>\n",
              "      <td>315.0</td>\n",
              "      <td>778.028571</td>\n",
              "      <td>20.841130</td>\n",
              "      <td>751.0</td>\n",
              "      <td>764.5</td>\n",
              "      <td>774.0</td>\n",
              "      <td>787.0</td>\n",
              "      <td>850.0</td>\n",
              "      <td>315.0</td>\n",
              "      <td>10.717460</td>\n",
              "      <td>13.606838</td>\n",
              "      <td>0.0</td>\n",
              "      <td>0.0</td>\n",
              "      <td>0.0</td>\n",
              "      <td>25.0</td>\n",
              "      <td>36.0</td>\n",
              "      <td>315.0</td>\n",
              "      <td>1.019048</td>\n",
              "      <td>0.136910</td>\n",
              "      <td>1.0</td>\n",
              "      <td>1.0</td>\n",
              "      <td>1.0</td>\n",
              "      <td>1.0</td>\n",
              "      <td>2.0</td>\n",
              "      <td>315.0</td>\n",
              "      <td>82.209524</td>\n",
              "      <td>10.793099</td>\n",
              "      <td>51.0</td>\n",
              "      <td>78.50</td>\n",
              "      <td>80.0</td>\n",
              "      <td>90.00</td>\n",
              "      <td>97.0</td>\n",
              "      <td>315.0</td>\n",
              "      <td>29.171429</td>\n",
              "      <td>10.146184</td>\n",
              "      <td>0.0</td>\n",
              "      <td>23.00</td>\n",
              "      <td>29.0</td>\n",
              "      <td>36.00</td>\n",
              "      <td>63.0</td>\n",
              "      <td>...</td>\n",
              "      <td>315.0</td>\n",
              "      <td>6.741317</td>\n",
              "      <td>0.346138</td>\n",
              "      <td>5.000</td>\n",
              "      <td>6.50000</td>\n",
              "      <td>6.7500</td>\n",
              "      <td>7.00000</td>\n",
              "      <td>7.750</td>\n",
              "      <td>315.0</td>\n",
              "      <td>360.000000</td>\n",
              "      <td>0.000000</td>\n",
              "      <td>360.0</td>\n",
              "      <td>360.0</td>\n",
              "      <td>360.0</td>\n",
              "      <td>360.0</td>\n",
              "      <td>360.0</td>\n",
              "      <td>315.0</td>\n",
              "      <td>0.225397</td>\n",
              "      <td>0.418508</td>\n",
              "      <td>0.0</td>\n",
              "      <td>0.00</td>\n",
              "      <td>0.0</td>\n",
              "      <td>0.00</td>\n",
              "      <td>1.0</td>\n",
              "      <td>315.0</td>\n",
              "      <td>2.365079</td>\n",
              "      <td>9.106415</td>\n",
              "      <td>0.0</td>\n",
              "      <td>0.00</td>\n",
              "      <td>0.0</td>\n",
              "      <td>0.00</td>\n",
              "      <td>92.0</td>\n",
              "      <td>315.0</td>\n",
              "      <td>165.476190</td>\n",
              "      <td>13.424781</td>\n",
              "      <td>145.0</td>\n",
              "      <td>153.5</td>\n",
              "      <td>165.0</td>\n",
              "      <td>176.0</td>\n",
              "      <td>191.0</td>\n",
              "    </tr>\n",
              "    <tr>\n",
              "      <th>16-20yrs</th>\n",
              "      <td>241.0</td>\n",
              "      <td>784.340249</td>\n",
              "      <td>27.568105</td>\n",
              "      <td>751.0</td>\n",
              "      <td>765.0</td>\n",
              "      <td>779.0</td>\n",
              "      <td>792.0</td>\n",
              "      <td>850.0</td>\n",
              "      <td>241.0</td>\n",
              "      <td>9.921162</td>\n",
              "      <td>13.300298</td>\n",
              "      <td>0.0</td>\n",
              "      <td>0.0</td>\n",
              "      <td>0.0</td>\n",
              "      <td>25.0</td>\n",
              "      <td>30.0</td>\n",
              "      <td>241.0</td>\n",
              "      <td>1.024896</td>\n",
              "      <td>0.180862</td>\n",
              "      <td>1.0</td>\n",
              "      <td>1.0</td>\n",
              "      <td>1.0</td>\n",
              "      <td>1.0</td>\n",
              "      <td>3.0</td>\n",
              "      <td>241.0</td>\n",
              "      <td>82.178423</td>\n",
              "      <td>10.115444</td>\n",
              "      <td>52.0</td>\n",
              "      <td>78.00</td>\n",
              "      <td>80.0</td>\n",
              "      <td>90.00</td>\n",
              "      <td>97.0</td>\n",
              "      <td>241.0</td>\n",
              "      <td>29.331950</td>\n",
              "      <td>9.747530</td>\n",
              "      <td>5.0</td>\n",
              "      <td>22.00</td>\n",
              "      <td>29.0</td>\n",
              "      <td>36.00</td>\n",
              "      <td>62.0</td>\n",
              "      <td>...</td>\n",
              "      <td>241.0</td>\n",
              "      <td>6.867178</td>\n",
              "      <td>0.315278</td>\n",
              "      <td>5.875</td>\n",
              "      <td>6.75000</td>\n",
              "      <td>6.8750</td>\n",
              "      <td>7.00000</td>\n",
              "      <td>8.000</td>\n",
              "      <td>241.0</td>\n",
              "      <td>360.000000</td>\n",
              "      <td>0.000000</td>\n",
              "      <td>360.0</td>\n",
              "      <td>360.0</td>\n",
              "      <td>360.0</td>\n",
              "      <td>360.0</td>\n",
              "      <td>360.0</td>\n",
              "      <td>241.0</td>\n",
              "      <td>0.294606</td>\n",
              "      <td>0.456814</td>\n",
              "      <td>0.0</td>\n",
              "      <td>0.00</td>\n",
              "      <td>0.0</td>\n",
              "      <td>1.00</td>\n",
              "      <td>1.0</td>\n",
              "      <td>241.0</td>\n",
              "      <td>6.456432</td>\n",
              "      <td>19.649193</td>\n",
              "      <td>0.0</td>\n",
              "      <td>0.00</td>\n",
              "      <td>0.0</td>\n",
              "      <td>1.00</td>\n",
              "      <td>118.0</td>\n",
              "      <td>241.0</td>\n",
              "      <td>208.224066</td>\n",
              "      <td>4.822646</td>\n",
              "      <td>193.0</td>\n",
              "      <td>209.0</td>\n",
              "      <td>210.0</td>\n",
              "      <td>211.0</td>\n",
              "      <td>212.0</td>\n",
              "    </tr>\n",
              "  </tbody>\n",
              "</table>\n",
              "<p>110 rows × 96 columns</p>\n",
              "</div>\n",
              "      <button class=\"colab-df-convert\" onclick=\"convertToInteractive('df-31eae2c9-e561-4d32-ba86-ae90dfe50632')\"\n",
              "              title=\"Convert this dataframe to an interactive table.\"\n",
              "              style=\"display:none;\">\n",
              "        \n",
              "  <svg xmlns=\"http://www.w3.org/2000/svg\" height=\"24px\"viewBox=\"0 0 24 24\"\n",
              "       width=\"24px\">\n",
              "    <path d=\"M0 0h24v24H0V0z\" fill=\"none\"/>\n",
              "    <path d=\"M18.56 5.44l.94 2.06.94-2.06 2.06-.94-2.06-.94-.94-2.06-.94 2.06-2.06.94zm-11 1L8.5 8.5l.94-2.06 2.06-.94-2.06-.94L8.5 2.5l-.94 2.06-2.06.94zm10 10l.94 2.06.94-2.06 2.06-.94-2.06-.94-.94-2.06-.94 2.06-2.06.94z\"/><path d=\"M17.41 7.96l-1.37-1.37c-.4-.4-.92-.59-1.43-.59-.52 0-1.04.2-1.43.59L10.3 9.45l-7.72 7.72c-.78.78-.78 2.05 0 2.83L4 21.41c.39.39.9.59 1.41.59.51 0 1.02-.2 1.41-.59l7.78-7.78 2.81-2.81c.8-.78.8-2.07 0-2.86zM5.41 20L4 18.59l7.72-7.72 1.47 1.35L5.41 20z\"/>\n",
              "  </svg>\n",
              "      </button>\n",
              "      \n",
              "  <style>\n",
              "    .colab-df-container {\n",
              "      display:flex;\n",
              "      flex-wrap:wrap;\n",
              "      gap: 12px;\n",
              "    }\n",
              "\n",
              "    .colab-df-convert {\n",
              "      background-color: #E8F0FE;\n",
              "      border: none;\n",
              "      border-radius: 50%;\n",
              "      cursor: pointer;\n",
              "      display: none;\n",
              "      fill: #1967D2;\n",
              "      height: 32px;\n",
              "      padding: 0 0 0 0;\n",
              "      width: 32px;\n",
              "    }\n",
              "\n",
              "    .colab-df-convert:hover {\n",
              "      background-color: #E2EBFA;\n",
              "      box-shadow: 0px 1px 2px rgba(60, 64, 67, 0.3), 0px 1px 3px 1px rgba(60, 64, 67, 0.15);\n",
              "      fill: #174EA6;\n",
              "    }\n",
              "\n",
              "    [theme=dark] .colab-df-convert {\n",
              "      background-color: #3B4455;\n",
              "      fill: #D2E3FC;\n",
              "    }\n",
              "\n",
              "    [theme=dark] .colab-df-convert:hover {\n",
              "      background-color: #434B5C;\n",
              "      box-shadow: 0px 1px 3px 1px rgba(0, 0, 0, 0.15);\n",
              "      filter: drop-shadow(0px 1px 2px rgba(0, 0, 0, 0.3));\n",
              "      fill: #FFFFFF;\n",
              "    }\n",
              "  </style>\n",
              "\n",
              "      <script>\n",
              "        const buttonEl =\n",
              "          document.querySelector('#df-31eae2c9-e561-4d32-ba86-ae90dfe50632 button.colab-df-convert');\n",
              "        buttonEl.style.display =\n",
              "          google.colab.kernel.accessAllowed ? 'block' : 'none';\n",
              "\n",
              "        async function convertToInteractive(key) {\n",
              "          const element = document.querySelector('#df-31eae2c9-e561-4d32-ba86-ae90dfe50632');\n",
              "          const dataTable =\n",
              "            await google.colab.kernel.invokeFunction('convertToInteractive',\n",
              "                                                     [key], {});\n",
              "          if (!dataTable) return;\n",
              "\n",
              "          const docLinkHtml = 'Like what you see? Visit the ' +\n",
              "            '<a target=\"_blank\" href=https://colab.research.google.com/notebooks/data_table.ipynb>data table notebook</a>'\n",
              "            + ' to learn more about interactive tables.';\n",
              "          element.innerHTML = '';\n",
              "          dataTable['output_type'] = 'display_data';\n",
              "          await google.colab.output.renderOutput(dataTable, element);\n",
              "          const docLink = document.createElement('div');\n",
              "          docLink.innerHTML = docLinkHtml;\n",
              "          element.appendChild(docLink);\n",
              "        }\n",
              "      </script>\n",
              "    </div>\n",
              "  </div>\n",
              "  "
            ],
            "text/plain": [
              "                                                   CS              ... MonthsInRepayment       \n",
              "                                                count        mean  ...               75%    max\n",
              "CreditRange IsFirstTime LTV_range Repay_range                      ...                         \n",
              "1           0           Low       0-4yrs         17.0  627.529412  ...              41.0   46.0\n",
              "                                  4-8yrs         13.0  635.384615  ...              65.0   93.0\n",
              "                                  8-12yrs         3.0  637.333333  ...             126.5  135.0\n",
              "                                  12-16yrs        2.0  608.000000  ...             181.0  189.0\n",
              "                                  16-20yrs        1.0  631.000000  ...             193.0  193.0\n",
              "...                                               ...         ...  ...               ...    ...\n",
              "4           1           High      0-4yrs       3064.0  771.980418  ...              44.0   48.0\n",
              "                                  4-8yrs       2211.0  773.217096  ...              63.0   96.0\n",
              "                                  8-12yrs       476.0  775.466387  ...             132.0  144.0\n",
              "                                  12-16yrs      315.0  778.028571  ...             176.0  191.0\n",
              "                                  16-20yrs      241.0  784.340249  ...             211.0  212.0\n",
              "\n",
              "[110 rows x 96 columns]"
            ]
          },
          "metadata": {},
          "execution_count": 234
        }
      ]
    },
    {
      "cell_type": "code",
      "source": [
        "df_imputed = df_grouped.transform(lambda grp: grp.fillna(grp.median()))\n",
        "df_imputed[['IsFirstTime','EverDelinquent']] = df[['IsFirstTime','EverDelinquent']]\n",
        "df.dropna(inplace=True)"
      ],
      "metadata": {
        "id": "LFXK1VzWFGHj"
      },
      "execution_count": 240,
      "outputs": []
    },
    {
      "cell_type": "code",
      "source": [
        "# Slicing the CreditScore\n",
        "df_imputed['CreditRange'] = pd.cut(df_imputed.CS,[550,650,700,750,1e6],4,labels=[1,2,3,4]) # this creates a new variable\n",
        "df_imputed.CreditRange.describe()"
      ],
      "metadata": {
        "colab": {
          "base_uri": "https://localhost:8080/"
        },
        "id": "yily1jt3FCp9",
        "outputId": "c18dd2d6-d090-46bf-877c-e1821bd4186d"
      },
      "execution_count": 241,
      "outputs": [
        {
          "output_type": "execute_result",
          "data": {
            "text/plain": [
              "count     212905\n",
              "unique         4\n",
              "top            3\n",
              "freq       72678\n",
              "Name: CreditRange, dtype: int64"
            ]
          },
          "metadata": {},
          "execution_count": 241
        }
      ]
    },
    {
      "cell_type": "code",
      "source": [
        "# Slicing the LTV\n",
        "df_imputed['LTV_range'] = pd.cut(df_imputed.LTV,[0,25,50,110],3,labels=['low','medium','high']) # this creates a new variable\n",
        "df_imputed.LTV_range.describe()"
      ],
      "metadata": {
        "colab": {
          "base_uri": "https://localhost:8080/"
        },
        "id": "agc978a_FmYP",
        "outputId": "4da529e9-8dd6-4967-b841-8504ae4a4616"
      },
      "execution_count": 242,
      "outputs": [
        {
          "output_type": "execute_result",
          "data": {
            "text/plain": [
              "count     212905\n",
              "unique         3\n",
              "top         high\n",
              "freq      198358\n",
              "Name: LTV_range, dtype: object"
            ]
          },
          "metadata": {},
          "execution_count": 242
        }
      ]
    },
    {
      "cell_type": "code",
      "source": [
        "# Taking slices of the MonthsInRepayment\n",
        "df_imputed['Repay_range'] = pd.cut(df_imputed.MonthsInRepayment,[0,48,96,144,192,240],5,labels=['0-4yrs','4-8yrs','8-12yrs', '12-16yrs', '16-20yrs'])\n",
        "df_imputed.Repay_range.describe()"
      ],
      "metadata": {
        "colab": {
          "base_uri": "https://localhost:8080/"
        },
        "id": "2jkmBjFlFrui",
        "outputId": "a9519ac3-45a3-442b-db67-f57a3b94e544"
      },
      "execution_count": 243,
      "outputs": [
        {
          "output_type": "execute_result",
          "data": {
            "text/plain": [
              "count     212905\n",
              "unique         5\n",
              "top       0-4yrs\n",
              "freq      108653\n",
              "Name: Repay_range, dtype: object"
            ]
          },
          "metadata": {},
          "execution_count": 243
        }
      ]
    },
    {
      "cell_type": "code",
      "source": [
        "df_imputed.head()\n",
        "df_imputed.info()"
      ],
      "metadata": {
        "colab": {
          "base_uri": "https://localhost:8080/"
        },
        "id": "t6rzlyG4Fvkr",
        "outputId": "8323f0bb-938e-42fb-913a-79a47fc96723"
      },
      "execution_count": 244,
      "outputs": [
        {
          "output_type": "stream",
          "name": "stdout",
          "text": [
            "<class 'pandas.core.frame.DataFrame'>\n",
            "Int64Index: 212905 entries, 0 to 291450\n",
            "Data columns (total 16 columns):\n",
            " #   Column             Non-Null Count   Dtype   \n",
            "---  ------             --------------   -----   \n",
            " 0   CS                 212905 non-null  int64   \n",
            " 1   MIP                212905 non-null  int64   \n",
            " 2   Units              212905 non-null  int64   \n",
            " 3   OCLTV              212905 non-null  int64   \n",
            " 4   DTI                212905 non-null  int64   \n",
            " 5   OrigUPB            212905 non-null  int64   \n",
            " 6   LTV                212905 non-null  int64   \n",
            " 7   OrigInterestRate   212905 non-null  float64 \n",
            " 8   OrigLoanTerm       212905 non-null  int64   \n",
            " 9   EverDelinquent     212905 non-null  int64   \n",
            " 10  MonthsDelinquent   212905 non-null  int64   \n",
            " 11  MonthsInRepayment  212905 non-null  int64   \n",
            " 12  IsFirstTime        212905 non-null  int64   \n",
            " 13  CreditRange        212905 non-null  category\n",
            " 14  LTV_range          212905 non-null  category\n",
            " 15  Repay_range        212905 non-null  category\n",
            "dtypes: category(3), float64(1), int64(12)\n",
            "memory usage: 23.4 MB\n"
          ]
        }
      ]
    }
  ]
}